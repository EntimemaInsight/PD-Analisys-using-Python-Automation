{
 "cells": [
  {
   "cell_type": "markdown",
   "id": "42713f17",
   "metadata": {},
   "source": [
    "# Transactions Analysis"
   ]
  },
  {
   "cell_type": "code",
   "execution_count": 1,
   "id": "940ac56d",
   "metadata": {},
   "outputs": [],
   "source": [
    "import time\n",
    "start_time = time.time()"
   ]
  },
  {
   "cell_type": "markdown",
   "id": "f836ce17",
   "metadata": {},
   "source": [
    "## 1. Set a time period"
   ]
  },
  {
   "cell_type": "code",
   "execution_count": 2,
   "id": "ab2ae477",
   "metadata": {},
   "outputs": [],
   "source": [
    "start_date = '2023-10-10'\n",
    "end_date = '2023-10-28'"
   ]
  },
  {
   "cell_type": "markdown",
   "id": "13405b7e",
   "metadata": {},
   "source": [
    "## 2. Add Input Link"
   ]
  },
  {
   "cell_type": "code",
   "execution_count": 3,
   "id": "1b033fa6",
   "metadata": {},
   "outputs": [],
   "source": [
    "input = \"C:/Users/aleksandar.dimitrov/Desktop/PD/Input/Transactions_template/Transactions analisys.xlsx\""
   ]
  },
  {
   "cell_type": "markdown",
   "id": "76b8b937",
   "metadata": {},
   "source": [
    "## 3. Add Output Link"
   ]
  },
  {
   "cell_type": "code",
   "execution_count": 4,
   "id": "8cc62f90",
   "metadata": {},
   "outputs": [],
   "source": [
    "output = \"C:/Users/aleksandar.dimitrov/Desktop/PD/Output/Transactions_analisys.xlsx\""
   ]
  },
  {
   "cell_type": "markdown",
   "id": "0dcc2a8d",
   "metadata": {},
   "source": [
    "## 4. Wait for the program.."
   ]
  },
  {
   "cell_type": "markdown",
   "id": "a22f5587",
   "metadata": {},
   "source": [
    "### Importing Libraries"
   ]
  },
  {
   "cell_type": "code",
   "execution_count": 5,
   "id": "541ff774",
   "metadata": {},
   "outputs": [],
   "source": [
    "import pandas as pd\n",
    "import pyodbc\n",
    "from openpyxl import load_workbook\n",
    "from openpyxl.utils.dataframe import dataframe_to_rows\n",
    "from datetime import datetime\n",
    "\n",
    "import win32com.client"
   ]
  },
  {
   "cell_type": "markdown",
   "id": "d78cafe1",
   "metadata": {},
   "source": [
    "### SQL Querries Loading"
   ]
  },
  {
   "cell_type": "code",
   "execution_count": 6,
   "id": "c1bb4c06",
   "metadata": {},
   "outputs": [],
   "source": [
    "server = \"scorpio\"\n",
    "database = \"BIsmartWCBG\"\n",
    "conn = pyodbc.connect(f\"DRIVER=ODBC Driver 17 for SQL Server;SERVER={server};DATABASE={database};Trusted_Connection=yes\")"
   ]
  },
  {
   "cell_type": "code",
   "execution_count": 7,
   "id": "8dc94c63",
   "metadata": {},
   "outputs": [],
   "source": [
    "sql_query = f\"\"\"\n",
    "\n",
    "DECLARE @StartDate DATE = '{start_date}';\n",
    "DECLARE @EndDate DATE = '{end_date}';\n",
    " \n",
    " SELECT\n",
    "ContractNumber,\n",
    "--, OfferSK,\n",
    " CONVERT(DATE, CDate,4) AS [Date]\n",
    ",CASE \n",
    "WHEN Name = 'A1 - 8.5%'\n",
    "THEN 'A1'\n",
    "WHEN Name = 'AXI 2-500'\n",
    "THEN 'AXI 2'\n",
    "WHEN Name = 'Visa Free ATM World'\n",
    "THEN 'WhiteCard'\n",
    "WHEN Name = 'Visa Бяла карта'\n",
    "THEN 'WhiteCard'\n",
    "WHEN Name = 'Бяла Карта'\n",
    "THEN 'WhiteCard'\n",
    "WHEN Name = 'ИАМ'\n",
    "THEN 'WhiteCard'\n",
    "WHEN Name = '180 дни Visa Бяла Карта'\n",
    "THEN 'WhiteCard'\n",
    "WHEN Name = 'Аванс БГ Пощи'\n",
    "THEN 'WhiteCard'\n",
    "WHEN Name = 'Бяла Карта – само лихва'\n",
    "THEN 'WhiteCard only interest'\n",
    "WHEN Name = 'Visa Бяла Карта - SC'\n",
    "THEN 'WhiteCard'\n",
    "WHEN Name = 'Бяла Карта Gold - 5%'\n",
    "THEN 'WhiteCard-Gold'\n",
    "WHEN Name = 'Бяла Карта Gold - 10%'\n",
    "THEN 'WhiteCard-Gold'\n",
    "WHEN Name = 'Бяла Карта Gold-MFG-5%'\n",
    "THEN 'WhiteCard-Gold'\n",
    "WHEN Name = 'Кредит от БК 3'\n",
    "THEN 'Axi Credit 3'\n",
    "WHEN Name = 'Кредит от БК 4 '\n",
    "THEN 'Axi Credit 4'\n",
    "WHEN Name = 'Кредит от БК 4 - paper'\n",
    "THEN 'Axi Credit 4'\n",
    "WHEN Name = 'Бяла Карта 2'\n",
    "THEN 'WhiteCard'\n",
    "ELSE Name\n",
    "END AS Product\n",
    "\n",
    ",CASE \n",
    "WHEN TransactionChanel = 'POSCASH'\n",
    "THEN 'POS'\n",
    "WHEN TransactionChanel = 'MANUAL'\n",
    "THEN 'POS'\n",
    "ELSE TransactionChanel\n",
    "END AS TransactionChanel\n",
    "\n",
    ",CASE\n",
    "When Name in ('AXI 2', 'AXI 2-500', 'Бяла Карта Gold - 5%', 'Бяла Карта Gold - 10%' ) and TransactionChanel = 'ATM'\n",
    "then SUM(ATMAmount) \n",
    "Else  SUM(AmountTransactionBilling * -1) \n",
    "END AS AmountReal\n",
    "\n",
    ", SUM(AmountTransactionBilling * -1) AS Amount\n",
    ", COUNT(AmountTransactionBilling) AS CountTransaction\n",
    ", SUM(ATMAmount) AS AxiATM\n",
    " FROM(\n",
    "SELECT --fct.OfferSK\n",
    " ContractNumber\n",
    ", fct.CDate\n",
    ", p.Name\n",
    ", AmountTransactionBilling\n",
    ", TransactionDate\n",
    ", tc.Name AS TransactionChanel,\n",
    " ((-AmountTransactionBilling - 1.5)/1.03) AS ATMAmount\n",
    "from dwh.FactCardTransactions fct\n",
    "   JOIN dwh.DimOffers do ON do.OfferSK = fct.OfferSK\n",
    "   JOIN DWh.DimProduct p ON p.ProductSK = do.ProductSK\n",
    "   JOIN dwh.DimTransactionChannels tc ON tc.TransactionChannelSK = fct.TransactionChannelSK\n",
    "   WHERE tc.Name NOT IN ('ANNUAL_TAX', 'BALANCE', 'PIN_CHANGE', 'FEE')\n",
    "   AND ResponseCodeSK = 47\n",
    "   AND AmountTransactionBilling < 0 \n",
    "   AND CONVERT(DATE, fct.CDate, 4) >= @StartDate\n",
    "   AND CONVERT(DATE, fct.CDate, 4) <= @EndDate\n",
    "\n",
    "   ) AS Result\n",
    "     GROUP BY Name, TransactionChanel, CONVERT(DATE, CDate,4), ContractNumber -- OfferSK\n",
    "ORDER BY Date, Name\n",
    "\n",
    "\"\"\""
   ]
  },
  {
   "cell_type": "code",
   "execution_count": 8,
   "id": "50e3ef24",
   "metadata": {
    "scrolled": false
   },
   "outputs": [
    {
     "name": "stderr",
     "output_type": "stream",
     "text": [
      "C:\\Users\\aleksandar.dimitrov\\AppData\\Local\\Temp\\ipykernel_8728\\2272456572.py:1: UserWarning: pandas only supports SQLAlchemy connectable (engine/connection) or database string URI or sqlite3 DBAPI2 connection. Other DBAPI2 objects are not tested. Please consider using SQLAlchemy.\n",
      "  data_sql = pd.read_sql_query(sql_query, conn)\n"
     ]
    },
    {
     "data": {
      "text/html": [
       "<div>\n",
       "<style scoped>\n",
       "    .dataframe tbody tr th:only-of-type {\n",
       "        vertical-align: middle;\n",
       "    }\n",
       "\n",
       "    .dataframe tbody tr th {\n",
       "        vertical-align: top;\n",
       "    }\n",
       "\n",
       "    .dataframe thead th {\n",
       "        text-align: right;\n",
       "    }\n",
       "</style>\n",
       "<table border=\"1\" class=\"dataframe\">\n",
       "  <thead>\n",
       "    <tr style=\"text-align: right;\">\n",
       "      <th></th>\n",
       "      <th>ContractNumber</th>\n",
       "      <th>Date</th>\n",
       "      <th>Product</th>\n",
       "      <th>TransactionChanel</th>\n",
       "      <th>AmountReal</th>\n",
       "      <th>Amount</th>\n",
       "      <th>CountTransaction</th>\n",
       "      <th>AxiATM</th>\n",
       "    </tr>\n",
       "  </thead>\n",
       "  <tbody>\n",
       "    <tr>\n",
       "      <th>0</th>\n",
       "      <td>554324</td>\n",
       "      <td>2023-10-10</td>\n",
       "      <td>A1</td>\n",
       "      <td>ATM</td>\n",
       "      <td>80.00</td>\n",
       "      <td>80.00</td>\n",
       "      <td>1</td>\n",
       "      <td>76.213592</td>\n",
       "    </tr>\n",
       "    <tr>\n",
       "      <th>1</th>\n",
       "      <td>555258</td>\n",
       "      <td>2023-10-10</td>\n",
       "      <td>A1</td>\n",
       "      <td>ATM</td>\n",
       "      <td>10.00</td>\n",
       "      <td>10.00</td>\n",
       "      <td>1</td>\n",
       "      <td>8.252427</td>\n",
       "    </tr>\n",
       "    <tr>\n",
       "      <th>2</th>\n",
       "      <td>555407</td>\n",
       "      <td>2023-10-10</td>\n",
       "      <td>A1</td>\n",
       "      <td>ATM</td>\n",
       "      <td>100.00</td>\n",
       "      <td>100.00</td>\n",
       "      <td>1</td>\n",
       "      <td>95.631068</td>\n",
       "    </tr>\n",
       "    <tr>\n",
       "      <th>3</th>\n",
       "      <td>555412</td>\n",
       "      <td>2023-10-10</td>\n",
       "      <td>A1</td>\n",
       "      <td>ATM</td>\n",
       "      <td>400.00</td>\n",
       "      <td>400.00</td>\n",
       "      <td>1</td>\n",
       "      <td>386.893204</td>\n",
       "    </tr>\n",
       "    <tr>\n",
       "      <th>4</th>\n",
       "      <td>555440</td>\n",
       "      <td>2023-10-10</td>\n",
       "      <td>A1</td>\n",
       "      <td>ATM</td>\n",
       "      <td>100.00</td>\n",
       "      <td>100.00</td>\n",
       "      <td>1</td>\n",
       "      <td>95.631068</td>\n",
       "    </tr>\n",
       "    <tr>\n",
       "      <th>...</th>\n",
       "      <td>...</td>\n",
       "      <td>...</td>\n",
       "      <td>...</td>\n",
       "      <td>...</td>\n",
       "      <td>...</td>\n",
       "      <td>...</td>\n",
       "      <td>...</td>\n",
       "      <td>...</td>\n",
       "    </tr>\n",
       "    <tr>\n",
       "      <th>112932</th>\n",
       "      <td>409945</td>\n",
       "      <td>2023-10-28</td>\n",
       "      <td>WhiteCard</td>\n",
       "      <td>POS</td>\n",
       "      <td>51.50</td>\n",
       "      <td>51.50</td>\n",
       "      <td>1</td>\n",
       "      <td>48.543689</td>\n",
       "    </tr>\n",
       "    <tr>\n",
       "      <th>112933</th>\n",
       "      <td>410909</td>\n",
       "      <td>2023-10-28</td>\n",
       "      <td>WhiteCard</td>\n",
       "      <td>POS</td>\n",
       "      <td>9.30</td>\n",
       "      <td>9.30</td>\n",
       "      <td>1</td>\n",
       "      <td>7.572816</td>\n",
       "    </tr>\n",
       "    <tr>\n",
       "      <th>112934</th>\n",
       "      <td>411528</td>\n",
       "      <td>2023-10-28</td>\n",
       "      <td>WhiteCard</td>\n",
       "      <td>POS</td>\n",
       "      <td>40.99</td>\n",
       "      <td>40.99</td>\n",
       "      <td>2</td>\n",
       "      <td>36.883495</td>\n",
       "    </tr>\n",
       "    <tr>\n",
       "      <th>112935</th>\n",
       "      <td>411539</td>\n",
       "      <td>2023-10-28</td>\n",
       "      <td>WhiteCard</td>\n",
       "      <td>POS</td>\n",
       "      <td>1.60</td>\n",
       "      <td>1.60</td>\n",
       "      <td>1</td>\n",
       "      <td>0.097087</td>\n",
       "    </tr>\n",
       "    <tr>\n",
       "      <th>112936</th>\n",
       "      <td>411635</td>\n",
       "      <td>2023-10-28</td>\n",
       "      <td>WhiteCard</td>\n",
       "      <td>POS</td>\n",
       "      <td>50.00</td>\n",
       "      <td>50.00</td>\n",
       "      <td>1</td>\n",
       "      <td>47.087379</td>\n",
       "    </tr>\n",
       "  </tbody>\n",
       "</table>\n",
       "<p>112937 rows × 8 columns</p>\n",
       "</div>"
      ],
      "text/plain": [
       "        ContractNumber        Date    Product TransactionChanel  AmountReal  \\\n",
       "0               554324  2023-10-10         A1               ATM       80.00   \n",
       "1               555258  2023-10-10         A1               ATM       10.00   \n",
       "2               555407  2023-10-10         A1               ATM      100.00   \n",
       "3               555412  2023-10-10         A1               ATM      400.00   \n",
       "4               555440  2023-10-10         A1               ATM      100.00   \n",
       "...                ...         ...        ...               ...         ...   \n",
       "112932          409945  2023-10-28  WhiteCard               POS       51.50   \n",
       "112933          410909  2023-10-28  WhiteCard               POS        9.30   \n",
       "112934          411528  2023-10-28  WhiteCard               POS       40.99   \n",
       "112935          411539  2023-10-28  WhiteCard               POS        1.60   \n",
       "112936          411635  2023-10-28  WhiteCard               POS       50.00   \n",
       "\n",
       "        Amount  CountTransaction      AxiATM  \n",
       "0        80.00                 1   76.213592  \n",
       "1        10.00                 1    8.252427  \n",
       "2       100.00                 1   95.631068  \n",
       "3       400.00                 1  386.893204  \n",
       "4       100.00                 1   95.631068  \n",
       "...        ...               ...         ...  \n",
       "112932   51.50                 1   48.543689  \n",
       "112933    9.30                 1    7.572816  \n",
       "112934   40.99                 2   36.883495  \n",
       "112935    1.60                 1    0.097087  \n",
       "112936   50.00                 1   47.087379  \n",
       "\n",
       "[112937 rows x 8 columns]"
      ]
     },
     "execution_count": 8,
     "metadata": {},
     "output_type": "execute_result"
    }
   ],
   "source": [
    "data_sql = pd.read_sql_query(sql_query, conn)\n",
    "data_sql"
   ]
  },
  {
   "cell_type": "markdown",
   "id": "ee46ad7e",
   "metadata": {},
   "source": [
    "### Excel file Loading"
   ]
  },
  {
   "cell_type": "code",
   "execution_count": 9,
   "id": "26588a41",
   "metadata": {},
   "outputs": [],
   "source": [
    "start_date = datetime.strptime(start_date, '%Y-%m-%d').strftime('%d.%m')\n",
    "end_date = datetime.strptime(end_date, '%Y-%m-%d').strftime('%d.%m')\n",
    "period = start_date + \"-\" + end_date"
   ]
  },
  {
   "cell_type": "code",
   "execution_count": 10,
   "id": "d4b5a2e5",
   "metadata": {},
   "outputs": [],
   "source": [
    "existing_data = pd.read_excel(input)"
   ]
  },
  {
   "cell_type": "code",
   "execution_count": 11,
   "id": "20efcdda",
   "metadata": {},
   "outputs": [
    {
     "data": {
      "text/plain": [
       "['Общо брой трансакции_10.10-28.10',\n",
       " 'Обща сума на всички направени трансакции_10.10-28.10',\n",
       " 'Брой трансакции на ПОС 10.10-28.10',\n",
       " 'Брой трансакции на АТМ 10.10-28.10',\n",
       " 'Брой трансакции онлайн 10.10-28.10']"
      ]
     },
     "execution_count": 11,
     "metadata": {},
     "output_type": "execute_result"
    }
   ],
   "source": [
    "columns_to_drop = [f\"Общо брой трансакции_{period}\",\n",
    "                 f\"Обща сума на всички направени трансакции_{period}\",\n",
    "                 f\"Брой трансакции на ПОС {period}\",\n",
    "                 f\"Брой трансакции на АТМ {period}\",\n",
    "                 f\"Брой трансакции онлайн {period}\"]\n",
    "columns_to_drop"
   ]
  },
  {
   "cell_type": "code",
   "execution_count": 12,
   "id": "0cb8b6d3",
   "metadata": {},
   "outputs": [],
   "source": [
    "existing_data.drop(columns=columns_to_drop, inplace=True)"
   ]
  },
  {
   "cell_type": "code",
   "execution_count": 13,
   "id": "9d9c260f",
   "metadata": {},
   "outputs": [],
   "source": [
    "workbook = load_workbook(input)"
   ]
  },
  {
   "cell_type": "code",
   "execution_count": 14,
   "id": "14934a51",
   "metadata": {},
   "outputs": [
    {
     "data": {
      "text/plain": [
       "<Worksheet \"Sheet1\">"
      ]
     },
     "execution_count": 14,
     "metadata": {},
     "output_type": "execute_result"
    }
   ],
   "source": [
    "worksheet = workbook.active\n",
    "worksheet"
   ]
  },
  {
   "cell_type": "code",
   "execution_count": 15,
   "id": "78894ca7",
   "metadata": {},
   "outputs": [
    {
     "data": {
      "text/html": [
       "<div>\n",
       "<style scoped>\n",
       "    .dataframe tbody tr th:only-of-type {\n",
       "        vertical-align: middle;\n",
       "    }\n",
       "\n",
       "    .dataframe tbody tr th {\n",
       "        vertical-align: top;\n",
       "    }\n",
       "\n",
       "    .dataframe thead th {\n",
       "        text-align: right;\n",
       "    }\n",
       "</style>\n",
       "<table border=\"1\" class=\"dataframe\">\n",
       "  <thead>\n",
       "    <tr style=\"text-align: right;\">\n",
       "      <th></th>\n",
       "      <th>Общо брой трансакции_10.10-28.10</th>\n",
       "    </tr>\n",
       "    <tr>\n",
       "      <th>ContractNumber</th>\n",
       "      <th></th>\n",
       "    </tr>\n",
       "  </thead>\n",
       "  <tbody>\n",
       "    <tr>\n",
       "      <th>400025</th>\n",
       "      <td>4</td>\n",
       "    </tr>\n",
       "    <tr>\n",
       "      <th>400028</th>\n",
       "      <td>1</td>\n",
       "    </tr>\n",
       "    <tr>\n",
       "      <th>400041</th>\n",
       "      <td>4</td>\n",
       "    </tr>\n",
       "    <tr>\n",
       "      <th>400045</th>\n",
       "      <td>5</td>\n",
       "    </tr>\n",
       "    <tr>\n",
       "      <th>400078</th>\n",
       "      <td>1</td>\n",
       "    </tr>\n",
       "    <tr>\n",
       "      <th>...</th>\n",
       "      <td>...</td>\n",
       "    </tr>\n",
       "    <tr>\n",
       "      <th>11073212</th>\n",
       "      <td>2</td>\n",
       "    </tr>\n",
       "    <tr>\n",
       "      <th>11073227</th>\n",
       "      <td>1</td>\n",
       "    </tr>\n",
       "    <tr>\n",
       "      <th>11073228</th>\n",
       "      <td>1</td>\n",
       "    </tr>\n",
       "    <tr>\n",
       "      <th>11073238</th>\n",
       "      <td>1</td>\n",
       "    </tr>\n",
       "    <tr>\n",
       "      <th>11073240</th>\n",
       "      <td>4</td>\n",
       "    </tr>\n",
       "  </tbody>\n",
       "</table>\n",
       "<p>34110 rows × 1 columns</p>\n",
       "</div>"
      ],
      "text/plain": [
       "                Общо брой трансакции_10.10-28.10\n",
       "ContractNumber                                  \n",
       "400025                                         4\n",
       "400028                                         1\n",
       "400041                                         4\n",
       "400045                                         5\n",
       "400078                                         1\n",
       "...                                          ...\n",
       "11073212                                       2\n",
       "11073227                                       1\n",
       "11073228                                       1\n",
       "11073238                                       1\n",
       "11073240                                       4\n",
       "\n",
       "[34110 rows x 1 columns]"
      ]
     },
     "execution_count": 15,
     "metadata": {},
     "output_type": "execute_result"
    }
   ],
   "source": [
    "total_count = data_sql.pivot_table(index=\"ContractNumber\",\n",
    "                                  values=\"CountTransaction\",\n",
    "                                  aggfunc=\"sum\")\n",
    "total_count.rename(columns={\"CountTransaction\": f\"Общо брой трансакции_{period}\"}, inplace=True)\n",
    "total_count.applymap(lambda x: 0 if pd.isna(x) else x)"
   ]
  },
  {
   "cell_type": "code",
   "execution_count": 16,
   "id": "6f01818e",
   "metadata": {},
   "outputs": [
    {
     "data": {
      "text/html": [
       "<div>\n",
       "<style scoped>\n",
       "    .dataframe tbody tr th:only-of-type {\n",
       "        vertical-align: middle;\n",
       "    }\n",
       "\n",
       "    .dataframe tbody tr th {\n",
       "        vertical-align: top;\n",
       "    }\n",
       "\n",
       "    .dataframe thead th {\n",
       "        text-align: right;\n",
       "    }\n",
       "</style>\n",
       "<table border=\"1\" class=\"dataframe\">\n",
       "  <thead>\n",
       "    <tr style=\"text-align: right;\">\n",
       "      <th></th>\n",
       "      <th>Обща сума на всички направени трансакции_10.10-28.10</th>\n",
       "    </tr>\n",
       "    <tr>\n",
       "      <th>ContractNumber</th>\n",
       "      <th></th>\n",
       "    </tr>\n",
       "  </thead>\n",
       "  <tbody>\n",
       "    <tr>\n",
       "      <th>400025</th>\n",
       "      <td>6.40</td>\n",
       "    </tr>\n",
       "    <tr>\n",
       "      <th>400028</th>\n",
       "      <td>200.00</td>\n",
       "    </tr>\n",
       "    <tr>\n",
       "      <th>400041</th>\n",
       "      <td>700.00</td>\n",
       "    </tr>\n",
       "    <tr>\n",
       "      <th>400045</th>\n",
       "      <td>172.93</td>\n",
       "    </tr>\n",
       "    <tr>\n",
       "      <th>400078</th>\n",
       "      <td>400.00</td>\n",
       "    </tr>\n",
       "    <tr>\n",
       "      <th>...</th>\n",
       "      <td>...</td>\n",
       "    </tr>\n",
       "    <tr>\n",
       "      <th>11073212</th>\n",
       "      <td>150.00</td>\n",
       "    </tr>\n",
       "    <tr>\n",
       "      <th>11073227</th>\n",
       "      <td>400.00</td>\n",
       "    </tr>\n",
       "    <tr>\n",
       "      <th>11073228</th>\n",
       "      <td>200.00</td>\n",
       "    </tr>\n",
       "    <tr>\n",
       "      <th>11073238</th>\n",
       "      <td>300.00</td>\n",
       "    </tr>\n",
       "    <tr>\n",
       "      <th>11073240</th>\n",
       "      <td>140.26</td>\n",
       "    </tr>\n",
       "  </tbody>\n",
       "</table>\n",
       "<p>34110 rows × 1 columns</p>\n",
       "</div>"
      ],
      "text/plain": [
       "                Обща сума на всички направени трансакции_10.10-28.10\n",
       "ContractNumber                                                      \n",
       "400025                                                       6.40   \n",
       "400028                                                     200.00   \n",
       "400041                                                     700.00   \n",
       "400045                                                     172.93   \n",
       "400078                                                     400.00   \n",
       "...                                                           ...   \n",
       "11073212                                                   150.00   \n",
       "11073227                                                   400.00   \n",
       "11073228                                                   200.00   \n",
       "11073238                                                   300.00   \n",
       "11073240                                                   140.26   \n",
       "\n",
       "[34110 rows x 1 columns]"
      ]
     },
     "execution_count": 16,
     "metadata": {},
     "output_type": "execute_result"
    }
   ],
   "source": [
    "total_amount = data_sql.pivot_table(index=\"ContractNumber\",\n",
    "                                  values=\"AmountReal\",\n",
    "                                  aggfunc=\"sum\")\n",
    "total_amount.rename(columns={\"AmountReal\": f\"Обща сума на всички направени трансакции_{period}\"}, inplace=True)\n",
    "total_amount.applymap(lambda x: 0 if pd.isna(x) else x)"
   ]
  },
  {
   "cell_type": "code",
   "execution_count": 17,
   "id": "55ba0e3d",
   "metadata": {
    "scrolled": false
   },
   "outputs": [],
   "source": [
    "new_columns = [f\"Брой трансакции на ПОС {period}\", f\"Брой трансакции на ATM {period}\", f\"Брой трансакции онлайн {period}\"]\n",
    "\n",
    "transactions_by_channels = data_sql.pivot_table(index='ContractNumber',\n",
    "                                                columns='TransactionChanel',\n",
    "                                                values='CountTransaction',\n",
    "                                                aggfunc='sum',\n",
    "                                                fill_value=0).reset_index()\n",
    "\n",
    "transactions_by_channels.rename(columns={\n",
    "    'POS': new_columns[0],\n",
    "    'ATM': new_columns[1],\n",
    "    'ECOMM': new_columns[2]\n",
    "}, inplace=True)\n",
    "\n",
    "\n",
    "desired_order = [\n",
    "    new_columns[0],\n",
    "    new_columns[1],\n",
    "    new_columns[2]\n",
    "]\n",
    "transactions_by_channels = transactions_by_channels[desired_order + ['ContractNumber']]\n",
    "transactions_by_channels.fillna(0, inplace=True)"
   ]
  },
  {
   "cell_type": "markdown",
   "id": "c3c52d9f",
   "metadata": {},
   "source": [
    "### Merged total_count, total_amount and transactions_by_channels "
   ]
  },
  {
   "cell_type": "code",
   "execution_count": 18,
   "id": "183e0041",
   "metadata": {},
   "outputs": [
    {
     "data": {
      "text/html": [
       "<div>\n",
       "<style scoped>\n",
       "    .dataframe tbody tr th:only-of-type {\n",
       "        vertical-align: middle;\n",
       "    }\n",
       "\n",
       "    .dataframe tbody tr th {\n",
       "        vertical-align: top;\n",
       "    }\n",
       "\n",
       "    .dataframe thead th {\n",
       "        text-align: right;\n",
       "    }\n",
       "</style>\n",
       "<table border=\"1\" class=\"dataframe\">\n",
       "  <thead>\n",
       "    <tr style=\"text-align: right;\">\n",
       "      <th></th>\n",
       "      <th>ContractNumber</th>\n",
       "      <th>Общо брой трансакции_10.10-28.10</th>\n",
       "      <th>Обща сума на всички направени трансакции_10.10-28.10</th>\n",
       "      <th>Брой трансакции на ПОС 10.10-28.10</th>\n",
       "      <th>Брой трансакции на ATM 10.10-28.10</th>\n",
       "      <th>Брой трансакции онлайн 10.10-28.10</th>\n",
       "    </tr>\n",
       "  </thead>\n",
       "  <tbody>\n",
       "    <tr>\n",
       "      <th>0</th>\n",
       "      <td>400025</td>\n",
       "      <td>4</td>\n",
       "      <td>6.40</td>\n",
       "      <td>4</td>\n",
       "      <td>0</td>\n",
       "      <td>0</td>\n",
       "    </tr>\n",
       "    <tr>\n",
       "      <th>1</th>\n",
       "      <td>400028</td>\n",
       "      <td>1</td>\n",
       "      <td>200.00</td>\n",
       "      <td>0</td>\n",
       "      <td>1</td>\n",
       "      <td>0</td>\n",
       "    </tr>\n",
       "    <tr>\n",
       "      <th>2</th>\n",
       "      <td>400041</td>\n",
       "      <td>4</td>\n",
       "      <td>700.00</td>\n",
       "      <td>1</td>\n",
       "      <td>3</td>\n",
       "      <td>0</td>\n",
       "    </tr>\n",
       "    <tr>\n",
       "      <th>3</th>\n",
       "      <td>400045</td>\n",
       "      <td>5</td>\n",
       "      <td>172.93</td>\n",
       "      <td>5</td>\n",
       "      <td>0</td>\n",
       "      <td>0</td>\n",
       "    </tr>\n",
       "    <tr>\n",
       "      <th>4</th>\n",
       "      <td>400078</td>\n",
       "      <td>1</td>\n",
       "      <td>400.00</td>\n",
       "      <td>0</td>\n",
       "      <td>1</td>\n",
       "      <td>0</td>\n",
       "    </tr>\n",
       "    <tr>\n",
       "      <th>...</th>\n",
       "      <td>...</td>\n",
       "      <td>...</td>\n",
       "      <td>...</td>\n",
       "      <td>...</td>\n",
       "      <td>...</td>\n",
       "      <td>...</td>\n",
       "    </tr>\n",
       "    <tr>\n",
       "      <th>34105</th>\n",
       "      <td>11073212</td>\n",
       "      <td>2</td>\n",
       "      <td>150.00</td>\n",
       "      <td>0</td>\n",
       "      <td>2</td>\n",
       "      <td>0</td>\n",
       "    </tr>\n",
       "    <tr>\n",
       "      <th>34106</th>\n",
       "      <td>11073227</td>\n",
       "      <td>1</td>\n",
       "      <td>400.00</td>\n",
       "      <td>0</td>\n",
       "      <td>1</td>\n",
       "      <td>0</td>\n",
       "    </tr>\n",
       "    <tr>\n",
       "      <th>34107</th>\n",
       "      <td>11073228</td>\n",
       "      <td>1</td>\n",
       "      <td>200.00</td>\n",
       "      <td>0</td>\n",
       "      <td>1</td>\n",
       "      <td>0</td>\n",
       "    </tr>\n",
       "    <tr>\n",
       "      <th>34108</th>\n",
       "      <td>11073238</td>\n",
       "      <td>1</td>\n",
       "      <td>300.00</td>\n",
       "      <td>0</td>\n",
       "      <td>1</td>\n",
       "      <td>0</td>\n",
       "    </tr>\n",
       "    <tr>\n",
       "      <th>34109</th>\n",
       "      <td>11073240</td>\n",
       "      <td>4</td>\n",
       "      <td>140.26</td>\n",
       "      <td>3</td>\n",
       "      <td>1</td>\n",
       "      <td>0</td>\n",
       "    </tr>\n",
       "  </tbody>\n",
       "</table>\n",
       "<p>34110 rows × 6 columns</p>\n",
       "</div>"
      ],
      "text/plain": [
       "       ContractNumber  Общо брой трансакции_10.10-28.10  \\\n",
       "0              400025                                 4   \n",
       "1              400028                                 1   \n",
       "2              400041                                 4   \n",
       "3              400045                                 5   \n",
       "4              400078                                 1   \n",
       "...               ...                               ...   \n",
       "34105        11073212                                 2   \n",
       "34106        11073227                                 1   \n",
       "34107        11073228                                 1   \n",
       "34108        11073238                                 1   \n",
       "34109        11073240                                 4   \n",
       "\n",
       "       Обща сума на всички направени трансакции_10.10-28.10  \\\n",
       "0                                                   6.40      \n",
       "1                                                 200.00      \n",
       "2                                                 700.00      \n",
       "3                                                 172.93      \n",
       "4                                                 400.00      \n",
       "...                                                  ...      \n",
       "34105                                             150.00      \n",
       "34106                                             400.00      \n",
       "34107                                             200.00      \n",
       "34108                                             300.00      \n",
       "34109                                             140.26      \n",
       "\n",
       "       Брой трансакции на ПОС 10.10-28.10  Брой трансакции на ATM 10.10-28.10  \\\n",
       "0                                       4                                   0   \n",
       "1                                       0                                   1   \n",
       "2                                       1                                   3   \n",
       "3                                       5                                   0   \n",
       "4                                       0                                   1   \n",
       "...                                   ...                                 ...   \n",
       "34105                                   0                                   2   \n",
       "34106                                   0                                   1   \n",
       "34107                                   0                                   1   \n",
       "34108                                   0                                   1   \n",
       "34109                                   3                                   1   \n",
       "\n",
       "       Брой трансакции онлайн 10.10-28.10  \n",
       "0                                       0  \n",
       "1                                       0  \n",
       "2                                       0  \n",
       "3                                       0  \n",
       "4                                       0  \n",
       "...                                   ...  \n",
       "34105                                   0  \n",
       "34106                                   0  \n",
       "34107                                   0  \n",
       "34108                                   0  \n",
       "34109                                   0  \n",
       "\n",
       "[34110 rows x 6 columns]"
      ]
     },
     "execution_count": 18,
     "metadata": {},
     "output_type": "execute_result"
    }
   ],
   "source": [
    "merged_1 = total_count.merge(total_amount, on='ContractNumber', how='inner')\n",
    "result = merged_1.merge(transactions_by_channels, on='ContractNumber', how='inner')\n",
    "result"
   ]
  },
  {
   "cell_type": "code",
   "execution_count": 19,
   "id": "1dd80c6d",
   "metadata": {},
   "outputs": [],
   "source": [
    "data = existing_data.merge(result, left_on=\"EasyClientNumber\", right_on=\"ContractNumber\", how=\"left\")\n",
    "data.drop(columns=\"ContractNumber\", inplace=True)"
   ]
  },
  {
   "cell_type": "code",
   "execution_count": 20,
   "id": "61e29463",
   "metadata": {},
   "outputs": [],
   "source": [
    "valid_columns = [\n",
    "    'Текущ издател',\n",
    "    'Продукт',\n",
    "    'EasyClientNumber',\n",
    "    'Лимит',\n",
    "    'Клиент',\n",
    "    'ЕГН',\n",
    "    'Телефон',\n",
    "    'Статус на картата',\n",
    "    'Дата на първа активация на картата',\n",
    "    'Дължимо до зануляване',\n",
    "    'Разполагаема сума',\n",
    "    'Дни забава',\n",
    "    'Marketig_consent',\n",
    "    'SMS_Consent',\n",
    "    'Email_Consent',\n",
    "    'Email',\n",
    "    'Дата на подписване на договор',\n",
    "    'Дата на последна трансакция'\n",
    "]\n",
    "\n",
    "for column in data.columns:\n",
    "    if column not in valid_columns:\n",
    "        data[column].fillna(0, inplace=True)\n",
    "    else:\n",
    "        data[column].fillna(\"#N/A\", inplace=True)    "
   ]
  },
  {
   "cell_type": "markdown",
   "id": "50088ab6",
   "metadata": {},
   "source": [
    "### Data Export"
   ]
  },
  {
   "cell_type": "code",
   "execution_count": 21,
   "id": "7cda40f6",
   "metadata": {},
   "outputs": [],
   "source": [
    "data_rows = list(dataframe_to_rows(data, index=False, header=False))"
   ]
  },
  {
   "cell_type": "code",
   "execution_count": 22,
   "id": "7cb4a947",
   "metadata": {},
   "outputs": [],
   "source": [
    "start_row = 2 \n",
    "start_column = 1"
   ]
  },
  {
   "cell_type": "code",
   "execution_count": 23,
   "id": "94e66293",
   "metadata": {},
   "outputs": [],
   "source": [
    "for row in data_rows:\n",
    "    for value in row:\n",
    "        worksheet.cell(row=start_row, column=start_column, value=value)\n",
    "        start_column += 1\n",
    "    start_column = 1\n",
    "    start_row += 1"
   ]
  },
  {
   "cell_type": "code",
   "execution_count": 24,
   "id": "1cf142d0",
   "metadata": {},
   "outputs": [],
   "source": [
    "workbook.save(output)"
   ]
  },
  {
   "cell_type": "markdown",
   "id": "cd9385ce",
   "metadata": {},
   "source": [
    "### Email Anouncing"
   ]
  },
  {
   "cell_type": "code",
   "execution_count": 25,
   "id": "d6457723",
   "metadata": {},
   "outputs": [],
   "source": [
    "recipient_email = \"alexi.zein@gmail.com\"\n",
    "subject = \"Transaction Analisys\"\n",
    "message = \"\"\"Dear colleagues,\n",
    "\n",
    "This email is automatically generated and contains information about added data.\n",
    "\n",
    "Date and time of generation: {}\n",
    "\n",
    "The Transactions Analisys data has been added successfully and can be found in the shared folder on PD.\n",
    "\n",
    "\"\"\".format(datetime.now().strftime(\"%d %B %Y, %H:%M ч.\"))"
   ]
  },
  {
   "cell_type": "code",
   "execution_count": 26,
   "id": "e727c115",
   "metadata": {},
   "outputs": [],
   "source": [
    "outlook = win32com.client.Dispatch(\"Outlook.Application\")\n",
    "namespace = outlook.GetNamespace(\"MAPI\")"
   ]
  },
  {
   "cell_type": "code",
   "execution_count": 27,
   "id": "4b9bf2d1",
   "metadata": {},
   "outputs": [],
   "source": [
    "mail = outlook.CreateItem(0)\n",
    "mail.Subject = subject\n",
    "mail.Body = message\n",
    "mail.To = recipient_email"
   ]
  },
  {
   "cell_type": "code",
   "execution_count": 28,
   "id": "6aa149bf",
   "metadata": {},
   "outputs": [],
   "source": [
    "mail.Send()"
   ]
  },
  {
   "cell_type": "code",
   "execution_count": 29,
   "id": "649953ce",
   "metadata": {},
   "outputs": [
    {
     "name": "stdout",
     "output_type": "stream",
     "text": [
      "The notification email has been successfully sent.\n"
     ]
    }
   ],
   "source": [
    "print(\"The notification email has been successfully sent.\")"
   ]
  },
  {
   "cell_type": "code",
   "execution_count": 30,
   "id": "ae708501",
   "metadata": {},
   "outputs": [
    {
     "name": "stdout",
     "output_type": "stream",
     "text": [
      "The script executed for 0.60 minutes.\n"
     ]
    }
   ],
   "source": [
    "end_time = time.time()\n",
    "execution_time_seconds = end_time - start_time\n",
    "execution_time_minutes = execution_time_seconds / 60\n",
    "print(f\"The script executed for {execution_time_minutes:.2f} minutes.\")"
   ]
  }
 ],
 "metadata": {
  "kernelspec": {
   "display_name": "Python 3 (ipykernel)",
   "language": "python",
   "name": "python3"
  },
  "language_info": {
   "codemirror_mode": {
    "name": "ipython",
    "version": 3
   },
   "file_extension": ".py",
   "mimetype": "text/x-python",
   "name": "python",
   "nbconvert_exporter": "python",
   "pygments_lexer": "ipython3",
   "version": "3.11.4"
  }
 },
 "nbformat": 4,
 "nbformat_minor": 5
}
