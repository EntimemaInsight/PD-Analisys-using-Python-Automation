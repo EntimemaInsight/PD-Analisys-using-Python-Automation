{
 "cells": [
  {
   "cell_type": "markdown",
   "id": "78f8ed84",
   "metadata": {},
   "source": [
    "# Usage Analysis"
   ]
  },
  {
   "cell_type": "code",
   "execution_count": 1,
   "id": "b0cbff5d",
   "metadata": {},
   "outputs": [],
   "source": [
    "import time\n",
    "start_time = time.time()"
   ]
  },
  {
   "cell_type": "markdown",
   "id": "6b10d01b",
   "metadata": {},
   "source": [
    "## 1. Set an END date"
   ]
  },
  {
   "cell_type": "code",
   "execution_count": 2,
   "id": "e5917dc1",
   "metadata": {},
   "outputs": [],
   "source": [
    "end_date = '2023-11-12'"
   ]
  },
  {
   "cell_type": "markdown",
   "id": "1d70f088",
   "metadata": {},
   "source": [
    "## 2. Add Link for Card Report"
   ]
  },
  {
   "cell_type": "code",
   "execution_count": 3,
   "id": "40d8acad",
   "metadata": {},
   "outputs": [],
   "source": [
    "input_path = \"J:/Reports BG/Card_Report_BG/ASPxGridViewCards_13.11.2023.csv\""
   ]
  },
  {
   "cell_type": "markdown",
   "id": "72a1f2ae",
   "metadata": {},
   "source": [
    "## 4. Add Output Link "
   ]
  },
  {
   "cell_type": "code",
   "execution_count": 4,
   "id": "21758cc5",
   "metadata": {},
   "outputs": [],
   "source": [
    "output = \"C:/Users/aleksandar.dimitrov/Desktop/PD/Output/Usage_13.11.2023.xlsx\""
   ]
  },
  {
   "cell_type": "markdown",
   "id": "65a58b31",
   "metadata": {},
   "source": [
    "## 3. Wait for the program... \n",
    "\n",
    "### Importing Libraries"
   ]
  },
  {
   "cell_type": "code",
   "execution_count": 5,
   "id": "fda5c84f",
   "metadata": {},
   "outputs": [],
   "source": [
    "import pandas as pd\n",
    "import pyodbc\n",
    "from openpyxl import load_workbook\n",
    "from openpyxl.utils.dataframe import dataframe_to_rows\n",
    "from datetime import datetime\n",
    "\n",
    "import win32com.client\n",
    "import time"
   ]
  },
  {
   "cell_type": "markdown",
   "id": "86f94314",
   "metadata": {},
   "source": [
    "### Templates Loading"
   ]
  },
  {
   "cell_type": "code",
   "execution_count": 6,
   "id": "86ab8b82",
   "metadata": {},
   "outputs": [],
   "source": [
    "template_path = \"C:/Users/aleksandar.dimitrov/Desktop/PD/Input/Usage_analisys_template/Usage_analisys_13.11.2023.xlsx\" "
   ]
  },
  {
   "cell_type": "code",
   "execution_count": 7,
   "id": "4e3ecd8f",
   "metadata": {},
   "outputs": [],
   "source": [
    "template = load_workbook(template_path)"
   ]
  },
  {
   "cell_type": "code",
   "execution_count": 8,
   "id": "a6da2ec9",
   "metadata": {},
   "outputs": [],
   "source": [
    "worksheet = template.active"
   ]
  },
  {
   "cell_type": "markdown",
   "id": "92ac9f2d",
   "metadata": {},
   "source": [
    "### CSV file filtering "
   ]
  },
  {
   "cell_type": "code",
   "execution_count": 9,
   "id": "72af1d10",
   "metadata": {},
   "outputs": [
    {
     "name": "stderr",
     "output_type": "stream",
     "text": [
      "C:\\Users\\aleksandar.dimitrov\\AppData\\Local\\Temp\\ipykernel_17584\\4291810047.py:1: DtypeWarning: Columns (0,3,4,6,7,10,11,13,15,16,17,18,19,20,21,24,25,26,27,28,29,30,31,32,33,34,35) have mixed types. Specify dtype option on import or set low_memory=False.\n",
      "  data = pd.read_csv(input_path, delimiter=\";\", encoding=\"cp1251\")\n"
     ]
    }
   ],
   "source": [
    "data = pd.read_csv(input_path, delimiter=\";\", encoding=\"cp1251\")\n",
    "data = data.drop(index=0)"
   ]
  },
  {
   "cell_type": "code",
   "execution_count": 10,
   "id": "de45b292",
   "metadata": {},
   "outputs": [],
   "source": [
    "data[\"Лимит\"] = data[\"Лимит\"].astype(float)\n",
    "data[\"Дължимо до зануляване\"] = data[\"Дължимо до зануляване\"].astype(float)\n",
    "data[\"Разполагаема сума\"] = data[\"Лимит\"] - data[\"Дължимо до зануляване\"]"
   ]
  },
  {
   "cell_type": "code",
   "execution_count": 11,
   "id": "e76de116",
   "metadata": {},
   "outputs": [],
   "source": [
    "desired_products =  [\"AXI 2\", \n",
    "                    \"AXI 2-500\",\n",
    "                    \"Visa Free ATM World\",\n",
    "                    \"Visa Бяла Карта - SC\",\n",
    "                    \"Бяла Карта\", \n",
    "                    \"Бяла Карта – само лихва\", \n",
    "                    \"Бяла Карта 2\",\n",
    "                    \"Бяла Карта 3\", \n",
    "                    \"Бяла Карта 3 - migrated\",\n",
    "                    \"Бяла Карта 4.2%\",\n",
    "                    \"Бяла Карта Gold - 10%\",\n",
    "                    \"Бяла Карта Gold - 5%\",                                         \n",
    "                    \"ИАМ\"]"
   ]
  },
  {
   "cell_type": "code",
   "execution_count": 12,
   "id": "1b3031f8",
   "metadata": {},
   "outputs": [],
   "source": [
    "filtered_data_1 = data[\n",
    "    (data[\"Текущ издател\"] == \"EPS\") &\n",
    "    (data[\"Продукт\"].isin(desired_products)) &\n",
    "    (data[\"Разполагаема сума\"] > 70) & \n",
    "    (data[\"Статус на картата\"] == \"активна\") &  \n",
    "    (data[\"Дни забава\"] == 0) ]   "
   ]
  },
  {
   "cell_type": "code",
   "execution_count": 13,
   "id": "07b1495c",
   "metadata": {},
   "outputs": [],
   "source": [
    "filtered_data_2 = data[\n",
    "    (data[\"Текущ издател\"] == \"EPS\") &\n",
    "    (data[\"Продукт\"].isin(desired_products)) &\n",
    "    (data[\"Разполагаема сума\"] > 70) & \n",
    "    (data[\"Статус на картата\"] == \"активна\") &  \n",
    "    (data[\"Дни забава\"] == \"0\")]   "
   ]
  },
  {
   "cell_type": "code",
   "execution_count": 14,
   "id": "b1a6f063",
   "metadata": {},
   "outputs": [],
   "source": [
    "columns_to_keep = [\"Текущ издател\",\n",
    "          \"Продукт\",\n",
    "          \"EasyClientNumber\",\n",
    "          \"Лимит\",\n",
    "          \"Клиент\",\n",
    "          \"ЕГН\",\n",
    "          \"Телефон\", \n",
    "          \"Статус на картата\",\n",
    "          \"Дължимо до зануляване\",\n",
    "          \"Разполагаема сума\",\n",
    "          \"Дни забава\",\n",
    "          \"Дата на последно теглене на пари от картата\"]"
   ]
  },
  {
   "cell_type": "code",
   "execution_count": 15,
   "id": "1cea0c58",
   "metadata": {},
   "outputs": [],
   "source": [
    "data_csv_1 = filtered_data_1[columns_to_keep]  \n",
    "data_csv_1 = data_csv_1.rename(columns={\"Дата на последно теглене на пари от картата\": \"Дата на последна транзакция\"})\n",
    "data_csv_1[\"Дата на последна транзакция\"] = pd.to_datetime(data_csv_1[\"Дата на последна транзакция\"]).dt.strftime(\"%d.%m.%Y\")"
   ]
  },
  {
   "cell_type": "code",
   "execution_count": 16,
   "id": "2cd25705",
   "metadata": {},
   "outputs": [],
   "source": [
    "data_csv_2 = filtered_data_2[columns_to_keep]  \n",
    "data_csv_2 = data_csv_2.rename(columns={\"Дата на последно теглене на пари от картата\": \"Дата на последна транзакция\"})\n",
    "data_csv_2[\"Дата на последна транзакция\"] = pd.to_datetime(data_csv_2[\"Дата на последна транзакция\"]).dt.strftime(\"%d.%m.%Y\")"
   ]
  },
  {
   "cell_type": "markdown",
   "id": "ad3b3e19",
   "metadata": {},
   "source": [
    "### SQL Querries Loading"
   ]
  },
  {
   "cell_type": "code",
   "execution_count": 17,
   "id": "facd4f73",
   "metadata": {},
   "outputs": [],
   "source": [
    "server = \"scorpio\"\n",
    "database = \"BIsmartWCBG\"\n",
    "conn = pyodbc.connect(f\"DRIVER=ODBC Driver 17 for SQL Server;SERVER={server};DATABASE={database};Trusted_Connection=yes\")"
   ]
  },
  {
   "cell_type": "code",
   "execution_count": 18,
   "id": "52bf25ec",
   "metadata": {},
   "outputs": [],
   "source": [
    "sql_query_1 = f\"\"\"\n",
    "\n",
    "DECLARE @EndDate DATE = '{end_date}';\n",
    "\n",
    "SELECT\n",
    "EasyClientNumber,\n",
    "ProcessorName,\n",
    "FORMAT(MinActivatedDate, 'dd-MM-yyyy') AS Date,\n",
    "Product\n",
    "FROM(\n",
    "SELECT DISTINCT EasyClientNumber,     \n",
    "p.Name AS Product,\n",
    "ProcessorName,\n",
    "ROW_NUMBER() OVER(PARTITION BY EasyClientNumber  \n",
    "                                ORDER BY ActivationDate asc) AS tr,\n",
    "MIN(CONVERT(DATE,ActivationDate)) AS MinActivatedDate,\n",
    "Limit\n",
    "  FROM dwh.DimCards c\n",
    "  left join dwh.DimOffers o On o.OfferSK = c.OfferSK\n",
    "  left join dwh.DimProduct p ON p.ProductSK = o.ProductSK\n",
    "  left join dwh.DimCardProcessors cp On cp.CardProcessorsSK = c.CardProcessorsSK\n",
    "  where ActivationDate IS NOT NULL \n",
    "  group By EasyClientNumber,\n",
    "Limit, \n",
    "p.Name,\n",
    "ActivationDate,\n",
    "ProcessorName\n",
    "  ) as Result\n",
    "  Where tr = 1 and \n",
    "  CONVERT(DATE,MinActivatedDate) between '2014-01-01' AND @EndDate  \n",
    "  group By MinActivatedDate, \n",
    "  EasyClientNumber,\n",
    "  Product,\n",
    "  ProcessorName\n",
    "\n",
    "\"\"\""
   ]
  },
  {
   "cell_type": "code",
   "execution_count": 19,
   "id": "4ea20df4",
   "metadata": {},
   "outputs": [
    {
     "name": "stderr",
     "output_type": "stream",
     "text": [
      "C:\\Users\\aleksandar.dimitrov\\AppData\\Local\\Temp\\ipykernel_17584\\2463551554.py:1: UserWarning: pandas only supports SQLAlchemy connectable (engine/connection) or database string URI or sqlite3 DBAPI2 connection. Other DBAPI2 objects are not tested. Please consider using SQLAlchemy.\n",
      "  first_activation_date = pd.read_sql_query(sql_query_1, conn)\n"
     ]
    }
   ],
   "source": [
    "first_activation_date = pd.read_sql_query(sql_query_1, conn)"
   ]
  },
  {
   "cell_type": "code",
   "execution_count": 20,
   "id": "a71b71b2",
   "metadata": {},
   "outputs": [
    {
     "data": {
      "text/html": [
       "<div>\n",
       "<style scoped>\n",
       "    .dataframe tbody tr th:only-of-type {\n",
       "        vertical-align: middle;\n",
       "    }\n",
       "\n",
       "    .dataframe tbody tr th {\n",
       "        vertical-align: top;\n",
       "    }\n",
       "\n",
       "    .dataframe thead th {\n",
       "        text-align: right;\n",
       "    }\n",
       "</style>\n",
       "<table border=\"1\" class=\"dataframe\">\n",
       "  <thead>\n",
       "    <tr style=\"text-align: right;\">\n",
       "      <th></th>\n",
       "      <th>EasyClientNumber</th>\n",
       "      <th>Дата на първа активация на картата</th>\n",
       "    </tr>\n",
       "  </thead>\n",
       "  <tbody>\n",
       "    <tr>\n",
       "      <th>0</th>\n",
       "      <td>402190</td>\n",
       "      <td>02.01.2014</td>\n",
       "    </tr>\n",
       "    <tr>\n",
       "      <th>1</th>\n",
       "      <td>402505</td>\n",
       "      <td>02.01.2014</td>\n",
       "    </tr>\n",
       "    <tr>\n",
       "      <th>2</th>\n",
       "      <td>402517</td>\n",
       "      <td>04.01.2014</td>\n",
       "    </tr>\n",
       "    <tr>\n",
       "      <th>3</th>\n",
       "      <td>402540</td>\n",
       "      <td>04.01.2014</td>\n",
       "    </tr>\n",
       "    <tr>\n",
       "      <th>4</th>\n",
       "      <td>402554</td>\n",
       "      <td>05.01.2014</td>\n",
       "    </tr>\n",
       "    <tr>\n",
       "      <th>...</th>\n",
       "      <td>...</td>\n",
       "      <td>...</td>\n",
       "    </tr>\n",
       "    <tr>\n",
       "      <th>334808</th>\n",
       "      <td>11074607</td>\n",
       "      <td>10.11.2023</td>\n",
       "    </tr>\n",
       "    <tr>\n",
       "      <th>334809</th>\n",
       "      <td>11074671</td>\n",
       "      <td>10.11.2023</td>\n",
       "    </tr>\n",
       "    <tr>\n",
       "      <th>334810</th>\n",
       "      <td>11074674</td>\n",
       "      <td>10.11.2023</td>\n",
       "    </tr>\n",
       "    <tr>\n",
       "      <th>334811</th>\n",
       "      <td>11074694</td>\n",
       "      <td>10.11.2023</td>\n",
       "    </tr>\n",
       "    <tr>\n",
       "      <th>334812</th>\n",
       "      <td>11074703</td>\n",
       "      <td>10.11.2023</td>\n",
       "    </tr>\n",
       "  </tbody>\n",
       "</table>\n",
       "<p>334813 rows × 2 columns</p>\n",
       "</div>"
      ],
      "text/plain": [
       "        EasyClientNumber Дата на първа активация на картата\n",
       "0                 402190                         02.01.2014\n",
       "1                 402505                         02.01.2014\n",
       "2                 402517                         04.01.2014\n",
       "3                 402540                         04.01.2014\n",
       "4                 402554                         05.01.2014\n",
       "...                  ...                                ...\n",
       "334808          11074607                         10.11.2023\n",
       "334809          11074671                         10.11.2023\n",
       "334810          11074674                         10.11.2023\n",
       "334811          11074694                         10.11.2023\n",
       "334812          11074703                         10.11.2023\n",
       "\n",
       "[334813 rows x 2 columns]"
      ]
     },
     "execution_count": 20,
     "metadata": {},
     "output_type": "execute_result"
    }
   ],
   "source": [
    "first_activation_date = first_activation_date[[\"EasyClientNumber\", \"Date\"]]\n",
    "\n",
    "first_activation_date = first_activation_date.rename(columns=\n",
    "                                                     {\"Date\": \n",
    "                                                      \"Дата на първа активация на картата\"})\n",
    "first_activation_date[\"Дата на първа активация на картата\"] = first_activation_date[\"Дата на първа активация на картата\"].str.replace(\"-\", \".\")\n",
    "first_activation_date"
   ]
  },
  {
   "cell_type": "code",
   "execution_count": 21,
   "id": "8c029ef7",
   "metadata": {},
   "outputs": [],
   "source": [
    "sql_query_2 = \"\"\"\n",
    "\n",
    "SELECT DISTINCT \n",
    "    cards.EasyClientNumber,\n",
    "    prod.Name,\n",
    "    MIN(cards.ActivationDate) AS FirstActivationDate,\n",
    "    offer.DateGenerateContract AS ContractDate\n",
    "FROM dwh.DimCards AS cards\n",
    "LEFT JOIN dwh.DimCardProcessors AS cp ON cp.CardProcessorID = cards.CardProcessorsSK\n",
    "LEFT JOIN dwh.DimOffers AS offer ON offer.OfferSK = cards.OfferSK\n",
    "LEFT JOIN dwh.DimProduct AS prod ON prod.ProductSK = offer.ProductSK\n",
    "WHERE cards.CardProcessorsSK = 2\n",
    "GROUP BY cards.EasyClientNumber, prod.Name, offer.DateGenerateContract\n",
    "ORDER BY cards.EasyClientNumber;\n",
    "\n",
    "\"\"\""
   ]
  },
  {
   "cell_type": "code",
   "execution_count": 22,
   "id": "d6cf3401",
   "metadata": {},
   "outputs": [
    {
     "name": "stderr",
     "output_type": "stream",
     "text": [
      "C:\\Users\\aleksandar.dimitrov\\AppData\\Local\\Temp\\ipykernel_17584\\2744920968.py:1: UserWarning: pandas only supports SQLAlchemy connectable (engine/connection) or database string URI or sqlite3 DBAPI2 connection. Other DBAPI2 objects are not tested. Please consider using SQLAlchemy.\n",
      "  contract_date = pd.read_sql_query(sql_query_2, conn)\n"
     ]
    }
   ],
   "source": [
    "contract_date = pd.read_sql_query(sql_query_2, conn)"
   ]
  },
  {
   "cell_type": "code",
   "execution_count": 23,
   "id": "5526ce3b",
   "metadata": {},
   "outputs": [
    {
     "data": {
      "text/html": [
       "<div>\n",
       "<style scoped>\n",
       "    .dataframe tbody tr th:only-of-type {\n",
       "        vertical-align: middle;\n",
       "    }\n",
       "\n",
       "    .dataframe tbody tr th {\n",
       "        vertical-align: top;\n",
       "    }\n",
       "\n",
       "    .dataframe thead th {\n",
       "        text-align: right;\n",
       "    }\n",
       "</style>\n",
       "<table border=\"1\" class=\"dataframe\">\n",
       "  <thead>\n",
       "    <tr style=\"text-align: right;\">\n",
       "      <th></th>\n",
       "      <th>EasyClientNumber</th>\n",
       "      <th>Дата на подписване на договор</th>\n",
       "    </tr>\n",
       "  </thead>\n",
       "  <tbody>\n",
       "    <tr>\n",
       "      <th>0</th>\n",
       "      <td>400007</td>\n",
       "      <td>27.01.2015</td>\n",
       "    </tr>\n",
       "    <tr>\n",
       "      <th>1</th>\n",
       "      <td>400025</td>\n",
       "      <td>21.05.2013</td>\n",
       "    </tr>\n",
       "    <tr>\n",
       "      <th>2</th>\n",
       "      <td>400026</td>\n",
       "      <td>21.05.2013</td>\n",
       "    </tr>\n",
       "    <tr>\n",
       "      <th>3</th>\n",
       "      <td>400028</td>\n",
       "      <td>21.05.2013</td>\n",
       "    </tr>\n",
       "    <tr>\n",
       "      <th>4</th>\n",
       "      <td>400033</td>\n",
       "      <td>21.05.2013</td>\n",
       "    </tr>\n",
       "    <tr>\n",
       "      <th>...</th>\n",
       "      <td>...</td>\n",
       "      <td>...</td>\n",
       "    </tr>\n",
       "    <tr>\n",
       "      <th>236604</th>\n",
       "      <td>11076030</td>\n",
       "      <td>NaN</td>\n",
       "    </tr>\n",
       "    <tr>\n",
       "      <th>236605</th>\n",
       "      <td>11076031</td>\n",
       "      <td>NaN</td>\n",
       "    </tr>\n",
       "    <tr>\n",
       "      <th>236606</th>\n",
       "      <td>11076033</td>\n",
       "      <td>NaN</td>\n",
       "    </tr>\n",
       "    <tr>\n",
       "      <th>236607</th>\n",
       "      <td>11076038</td>\n",
       "      <td>NaN</td>\n",
       "    </tr>\n",
       "    <tr>\n",
       "      <th>236608</th>\n",
       "      <td>11076039</td>\n",
       "      <td>NaN</td>\n",
       "    </tr>\n",
       "  </tbody>\n",
       "</table>\n",
       "<p>236609 rows × 2 columns</p>\n",
       "</div>"
      ],
      "text/plain": [
       "        EasyClientNumber Дата на подписване на договор\n",
       "0                 400007                    27.01.2015\n",
       "1                 400025                    21.05.2013\n",
       "2                 400026                    21.05.2013\n",
       "3                 400028                    21.05.2013\n",
       "4                 400033                    21.05.2013\n",
       "...                  ...                           ...\n",
       "236604          11076030                           NaN\n",
       "236605          11076031                           NaN\n",
       "236606          11076033                           NaN\n",
       "236607          11076038                           NaN\n",
       "236608          11076039                           NaN\n",
       "\n",
       "[236609 rows x 2 columns]"
      ]
     },
     "execution_count": 23,
     "metadata": {},
     "output_type": "execute_result"
    }
   ],
   "source": [
    "contract_date = contract_date[[\"EasyClientNumber\", \"ContractDate\"]]\n",
    "contract_date = contract_date.rename(columns={\"ContractDate\": \"Дата на подписване на договор\"})\n",
    "contract_date[\"Дата на подписване на договор\"] = pd.to_datetime(contract_date[\"Дата на подписване на договор\"])\n",
    "contract_date[\"Дата на подписване на договор\"] = contract_date[\"Дата на подписване на договор\"].dt.strftime(\"%d.%m.%Y\")\n",
    "contract_date"
   ]
  },
  {
   "cell_type": "code",
   "execution_count": 24,
   "id": "9519fb15",
   "metadata": {},
   "outputs": [],
   "source": [
    "sql_query_3 = f\"\"\"\n",
    "\n",
    "DECLARE @EndDate DATE = '{end_date}';\n",
    "declare @DateConsentFrom date = convert(date, '2014-01-01');\n",
    "declare @DateConsentTo date = convert(date, @EndDate);\n",
    "\n",
    "WITH\n",
    "\n",
    "--Emails --fix of duplicated emails\n",
    "Emails AS (\n",
    "SELECT ContactID, Email, Row_Number() OVER(PARTITION BY ContactID ORDER By Cdate desc) as rownum\n",
    "FROM dwh.DimClientMails where [Current] = 1\n",
    ")\n",
    "\n",
    "SELECT  o.ContractNumber as EasyClientNumber, cl.EGN, \n",
    "CASE WHEN consent.HasMarketing= '1' THEN 'Yes' ELSE 'No' END AS Marketig_consent, \n",
    "CASE WHEN consent.HasEmail= '1' THEN 'Yes' ELSE 'No' END AS Email_Consent,\n",
    "CASE WHEN consent.HasPhone= '1' THEN 'Yes' ELSE 'No' END AS HasPhone,\n",
    "CASE WHEN consent.HasSMS= '1' THEN 'Yes' ELSE 'No' END AS SMS_Consent,\n",
    "m.Email\n",
    "\n",
    "FROM dwh.DimClientConsent as consent\n",
    "\n",
    "JOIN dwh.DimOffers o ON o.OfferID = consent.OfferID\n",
    "JOIN dwh.DimOffersStatus os ON os.OffStatusSK = o.OffStatusSK\n",
    "JOIN dwh.DimProduct p ON p.ProductSK = o.ProductSK\n",
    "JOIN dwh.DimClient cl ON cl.ClientSK = consent.ClientSK\n",
    "--JOIN dwh.DimClientPhones ph ON ph.ContactID = consent.ContactOrPartnerId AND ph.[Current] = 1 AND ph.PhoneTypeSK = 1282\n",
    "LEFT JOIN Emails m ON m.ContactID = consent.ContactOrPartnerId AND m.rownum = 1\n",
    "\n",
    "WHERE consent.ClientSK <> -1 AND ContractNumber IS NOT NULL\n",
    "AND CONVERT(DATE, consent.LDate) BETWEEN @DateConsentFrom AND @DateConsentTo\n",
    "\n",
    "\"\"\""
   ]
  },
  {
   "cell_type": "code",
   "execution_count": 25,
   "id": "9fbf79c5",
   "metadata": {},
   "outputs": [
    {
     "name": "stderr",
     "output_type": "stream",
     "text": [
      "C:\\Users\\aleksandar.dimitrov\\AppData\\Local\\Temp\\ipykernel_17584\\3958564563.py:1: UserWarning: pandas only supports SQLAlchemy connectable (engine/connection) or database string URI or sqlite3 DBAPI2 connection. Other DBAPI2 objects are not tested. Please consider using SQLAlchemy.\n",
      "  consent_client = pd.read_sql_query(sql_query_3, conn)\n"
     ]
    }
   ],
   "source": [
    "consent_client = pd.read_sql_query(sql_query_3, conn)"
   ]
  },
  {
   "cell_type": "code",
   "execution_count": 26,
   "id": "956d894c",
   "metadata": {},
   "outputs": [],
   "source": [
    "consent_client = consent_client[[\"EasyClientNumber\",\n",
    "                                 \"Marketig_consent\",\n",
    "                                 \"SMS_Consent\",\n",
    "                                 \"Email_Consent\",\n",
    "                                 \"Email\"]]"
   ]
  },
  {
   "cell_type": "markdown",
   "id": "29dad9f6",
   "metadata": {},
   "source": [
    "### Merge CSV file, first_activation_date, contract_date and consent_client"
   ]
  },
  {
   "cell_type": "code",
   "execution_count": 27,
   "id": "08b38906",
   "metadata": {},
   "outputs": [],
   "source": [
    "data_csv_1 = data_csv_1.merge(first_activation_date, on=\"EasyClientNumber\", how=\"left\")\n",
    "data_csv_1 = data_csv_1.merge(contract_date, on=\"EasyClientNumber\", how=\"left\")\n",
    "data_csv_1 = data_csv_1.merge(consent_client, on=\"EasyClientNumber\", how=\"left\")"
   ]
  },
  {
   "cell_type": "code",
   "execution_count": 28,
   "id": "52de3f4e",
   "metadata": {},
   "outputs": [],
   "source": [
    "data_csv_2[\"EasyClientNumber\"] = data_csv_2[\"EasyClientNumber\"].astype(int)"
   ]
  },
  {
   "cell_type": "code",
   "execution_count": 29,
   "id": "25fcba51",
   "metadata": {},
   "outputs": [],
   "source": [
    "data_csv_2 = data_csv_2.merge(first_activation_date, on=\"EasyClientNumber\", how=\"left\")\n",
    "data_csv_2 = data_csv_2.merge(contract_date, on=\"EasyClientNumber\", how=\"left\")\n",
    "data_csv_2 = data_csv_2.merge(consent_client, on=\"EasyClientNumber\", how=\"left\")"
   ]
  },
  {
   "cell_type": "markdown",
   "id": "d1e3533c",
   "metadata": {},
   "source": [
    "### Data Generation"
   ]
  },
  {
   "cell_type": "code",
   "execution_count": 30,
   "id": "398feaa0",
   "metadata": {},
   "outputs": [],
   "source": [
    "data_csv_1\n",
    "data_csv_1[\"Продукт 2\"] = data_csv_1[\"Продукт\"]\n",
    "\n",
    "data_csv_2\n",
    "data_csv_2[\"Продукт 2\"] = data_csv_2[\"Продукт\"]\n"
   ]
  },
  {
   "cell_type": "code",
   "execution_count": 31,
   "id": "6b41e198",
   "metadata": {},
   "outputs": [],
   "source": [
    "desired_order = [\"Текущ издател\",\n",
    "          \"Продукт\",       \n",
    "          \"Продукт 2\",\n",
    "          \"EasyClientNumber\",\n",
    "          \"Лимит\",\n",
    "          \"Клиент\",\n",
    "          \"ЕГН\",\n",
    "          \"Телефон\", \n",
    "          \"Статус на картата\",\n",
    "          \"Дата на първа активация на картата\",\n",
    "          \"Дължимо до зануляване\",\n",
    "          \"Разполагаема сума\",\n",
    "          \"Дни забава\",\n",
    "          \"Marketig_consent\",\n",
    "          \"SMS_Consent\",\n",
    "          \"Email_Consent\",\n",
    "          \"Email\",\n",
    "          \"Дата на подписване на договор\",\n",
    "          \"Дата на последна транзакция\"]"
   ]
  },
  {
   "cell_type": "code",
   "execution_count": 32,
   "id": "ebfc102e",
   "metadata": {},
   "outputs": [],
   "source": [
    "data_csv_1 = data_csv_1[desired_order]"
   ]
  },
  {
   "cell_type": "code",
   "execution_count": 33,
   "id": "2065f515",
   "metadata": {},
   "outputs": [],
   "source": [
    "data_csv_2 = data_csv_2[desired_order]\n"
   ]
  },
  {
   "cell_type": "code",
   "execution_count": 34,
   "id": "47ad7f28",
   "metadata": {},
   "outputs": [],
   "source": [
    "data_result = pd.concat([data_csv_1, data_csv_2])"
   ]
  },
  {
   "cell_type": "code",
   "execution_count": 35,
   "id": "b2a4627a",
   "metadata": {},
   "outputs": [],
   "source": [
    "data_result.fillna(\"#N/A\", inplace=True)"
   ]
  },
  {
   "cell_type": "markdown",
   "id": "e8809dd4",
   "metadata": {},
   "source": [
    "### Data Export"
   ]
  },
  {
   "cell_type": "code",
   "execution_count": 36,
   "id": "b456cdd9",
   "metadata": {},
   "outputs": [],
   "source": [
    "for row in worksheet.iter_rows(min_row=2, max_row=worksheet.max_row, min_col=1, max_col=worksheet.max_column):\n",
    "    for cell in row:\n",
    "        cell.value = None"
   ]
  },
  {
   "cell_type": "code",
   "execution_count": 37,
   "id": "00c0ca15",
   "metadata": {},
   "outputs": [],
   "source": [
    "data_rows = list(dataframe_to_rows(data_result, index=False, header=False))"
   ]
  },
  {
   "cell_type": "code",
   "execution_count": 38,
   "id": "2d15c69c",
   "metadata": {},
   "outputs": [],
   "source": [
    "start_row = 2\n",
    "start_column = 1"
   ]
  },
  {
   "cell_type": "code",
   "execution_count": 39,
   "id": "520d9261",
   "metadata": {},
   "outputs": [],
   "source": [
    "for row in data_rows:\n",
    "    for value in row:\n",
    "        worksheet.cell(row=start_row, column=start_column, value=value)\n",
    "        start_column += 1\n",
    "    start_column = 1\n",
    "    start_row += 1"
   ]
  },
  {
   "cell_type": "code",
   "execution_count": 40,
   "id": "670fbec0",
   "metadata": {},
   "outputs": [],
   "source": [
    "template.save(output)"
   ]
  },
  {
   "cell_type": "markdown",
   "id": "4df10e3f",
   "metadata": {},
   "source": [
    "### Email Anouncing"
   ]
  },
  {
   "cell_type": "code",
   "execution_count": 41,
   "id": "f29a057d",
   "metadata": {},
   "outputs": [],
   "source": [
    "recipient_email = \"alexi.zein@gmail.com\"\n",
    "subject = \"Usage\"\n",
    "message = \"\"\"Dear colleagues,\n",
    "\n",
    "This email is automatically generated and contains information about added data.\n",
    "\n",
    "Date and time of generation: {}\n",
    "\n",
    "The Usage data has been added successfully and can be found in the shared folder on PD.\n",
    "\n",
    "\"\"\".format(datetime.now().strftime(\"%d %B %Y, %H:%M ч.\"))"
   ]
  },
  {
   "cell_type": "code",
   "execution_count": 42,
   "id": "e7572234",
   "metadata": {},
   "outputs": [],
   "source": [
    "outlook = win32com.client.Dispatch(\"Outlook.Application\")\n",
    "namespace = outlook.GetNamespace(\"MAPI\")"
   ]
  },
  {
   "cell_type": "code",
   "execution_count": 43,
   "id": "6efc9ec8",
   "metadata": {},
   "outputs": [],
   "source": [
    "mail = outlook.CreateItem(0)\n",
    "mail.Subject = subject\n",
    "mail.Body = message\n",
    "mail.To = recipient_email"
   ]
  },
  {
   "cell_type": "code",
   "execution_count": 44,
   "id": "87f32752",
   "metadata": {},
   "outputs": [],
   "source": [
    "mail.Send()"
   ]
  },
  {
   "cell_type": "code",
   "execution_count": 45,
   "id": "ff542a91",
   "metadata": {},
   "outputs": [
    {
     "name": "stdout",
     "output_type": "stream",
     "text": [
      "The notification email has been successfully sent.\n"
     ]
    }
   ],
   "source": [
    "print(\"The notification email has been successfully sent.\")"
   ]
  },
  {
   "cell_type": "code",
   "execution_count": 46,
   "id": "40126d6b",
   "metadata": {},
   "outputs": [
    {
     "name": "stdout",
     "output_type": "stream",
     "text": [
      "The script executed for 0.72 minutes.\n"
     ]
    }
   ],
   "source": [
    "end_time = time.time()\n",
    "execution_time_seconds = end_time - start_time\n",
    "execution_time_minutes = execution_time_seconds / 60\n",
    "print(f\"The script executed for {execution_time_minutes:.2f} minutes.\")"
   ]
  }
 ],
 "metadata": {
  "kernelspec": {
   "display_name": "Python 3 (ipykernel)",
   "language": "python",
   "name": "python3"
  },
  "language_info": {
   "codemirror_mode": {
    "name": "ipython",
    "version": 3
   },
   "file_extension": ".py",
   "mimetype": "text/x-python",
   "name": "python",
   "nbconvert_exporter": "python",
   "pygments_lexer": "ipython3",
   "version": "3.11.4"
  }
 },
 "nbformat": 4,
 "nbformat_minor": 5
}
