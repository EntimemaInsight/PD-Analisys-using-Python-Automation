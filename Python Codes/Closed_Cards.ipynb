{
 "cells": [
  {
   "cell_type": "markdown",
   "id": "e17f0ea9",
   "metadata": {},
   "source": [
    "# Closed Cards Report"
   ]
  },
  {
   "cell_type": "code",
   "execution_count": 1,
   "id": "f5dbad19",
   "metadata": {},
   "outputs": [],
   "source": [
    "import time\n",
    "start_time = time.time()"
   ]
  },
  {
   "cell_type": "markdown",
   "id": "3fc494fa",
   "metadata": {},
   "source": [
    "## 1. Set a time period"
   ]
  },
  {
   "cell_type": "code",
   "execution_count": 2,
   "id": "ae9dcef3",
   "metadata": {},
   "outputs": [],
   "source": [
    "start_date = '2023-10-01'\n",
    "end_date = '2023-10-31'"
   ]
  },
  {
   "cell_type": "markdown",
   "id": "db9773b3",
   "metadata": {},
   "source": [
    "## 2. Add Output Link"
   ]
  },
  {
   "cell_type": "code",
   "execution_count": 3,
   "id": "921ec921",
   "metadata": {},
   "outputs": [],
   "source": [
    "output = \"C:/Users/aleksandar.dimitrov/Desktop/PD/Output/ClosedCards.xlsx\""
   ]
  },
  {
   "cell_type": "markdown",
   "id": "7c6667e6",
   "metadata": {},
   "source": [
    "## 3. Wait for the program..\n"
   ]
  },
  {
   "cell_type": "markdown",
   "id": "479ce090",
   "metadata": {},
   "source": [
    "### Importing Libraries"
   ]
  },
  {
   "cell_type": "code",
   "execution_count": 4,
   "id": "7ce4eb22",
   "metadata": {},
   "outputs": [],
   "source": [
    "import pandas as pd\n",
    "import pyodbc\n",
    "from openpyxl import load_workbook\n",
    "from openpyxl.utils.dataframe import dataframe_to_rows\n",
    "\n",
    "import win32com.client\n",
    "from datetime import datetime"
   ]
  },
  {
   "cell_type": "markdown",
   "id": "86f6ecc6",
   "metadata": {},
   "source": [
    "### Templates Loading"
   ]
  },
  {
   "cell_type": "code",
   "execution_count": 5,
   "id": "63f5ccc0",
   "metadata": {},
   "outputs": [],
   "source": [
    "input = \"C:/Users/aleksandar.dimitrov/Desktop/PD/Input/Closed_Cards_template/ClosedCards.xlsx\""
   ]
  },
  {
   "cell_type": "code",
   "execution_count": 6,
   "id": "e022506d",
   "metadata": {},
   "outputs": [],
   "source": [
    "workbook = load_workbook(input)"
   ]
  },
  {
   "cell_type": "code",
   "execution_count": 7,
   "id": "574e6afe",
   "metadata": {},
   "outputs": [],
   "source": [
    "worksheet = workbook.active"
   ]
  },
  {
   "cell_type": "markdown",
   "id": "92c168cd",
   "metadata": {},
   "source": [
    "### SQL Querries Loading"
   ]
  },
  {
   "cell_type": "code",
   "execution_count": 8,
   "id": "c1bb4c06",
   "metadata": {},
   "outputs": [],
   "source": [
    "server = \"scorpio\"\n",
    "database = \"BIsmartWCBG\"\n",
    "conn = pyodbc.connect(f\"DRIVER=ODBC Driver 17 for SQL Server;SERVER={server};DATABASE={database};Trusted_Connection=yes\")"
   ]
  },
  {
   "cell_type": "code",
   "execution_count": 9,
   "id": "8dc94c63",
   "metadata": {},
   "outputs": [],
   "source": [
    "sql_query = f\"\"\"\n",
    "\n",
    "DECLARE @StartDate DATE = '{start_date}';\n",
    "DECLARE @EndDate DATE = '{end_date}';\n",
    "\n",
    "SELECT \n",
    "DimOff.ContractNumber AS EasyClientNumber\n",
    ",CONVERT(DATE, DimOff.DateClosed) AS Date\n",
    ",DimPr.Name AS Product\n",
    ",DimCR.Code AS CloseReason    \n",
    ",COUNT(*) AS Count \n",
    "FROM dwh.DimOffers AS DimOff\n",
    "JOIN dwh.DimOffCloseReason AS DimCR ON DimCR.CloseReasonSK = DimOff.CloseReasonSK\n",
    "JOIN dwh.DimProduct AS DimPr ON DimPr.ProductSK = DimOff.ProductSK\n",
    "WHERE DimCR.CloseReasonSK BETWEEN 1 AND 3 \n",
    "AND CONVERT(DATE, DimOff.DateClosed) BETWEEN @StartDate AND @EndDate\n",
    "GROUP BY DimOff.ContractNumber, DimPr.Name, DimCR.Code, CONVERT(DATE, DimOff.DateClosed);\n",
    "\n",
    "\"\"\""
   ]
  },
  {
   "cell_type": "code",
   "execution_count": 10,
   "id": "50e3ef24",
   "metadata": {},
   "outputs": [
    {
     "name": "stderr",
     "output_type": "stream",
     "text": [
      "C:\\Users\\aleksandar.dimitrov\\AppData\\Local\\Temp\\ipykernel_7392\\2272456572.py:1: UserWarning: pandas only supports SQLAlchemy connectable (engine/connection) or database string URI or sqlite3 DBAPI2 connection. Other DBAPI2 objects are not tested. Please consider using SQLAlchemy.\n",
      "  data_sql = pd.read_sql_query(sql_query, conn)\n"
     ]
    },
    {
     "data": {
      "text/html": [
       "<div>\n",
       "<style scoped>\n",
       "    .dataframe tbody tr th:only-of-type {\n",
       "        vertical-align: middle;\n",
       "    }\n",
       "\n",
       "    .dataframe tbody tr th {\n",
       "        vertical-align: top;\n",
       "    }\n",
       "\n",
       "    .dataframe thead th {\n",
       "        text-align: right;\n",
       "    }\n",
       "</style>\n",
       "<table border=\"1\" class=\"dataframe\">\n",
       "  <thead>\n",
       "    <tr style=\"text-align: right;\">\n",
       "      <th></th>\n",
       "      <th>EasyClientNumber</th>\n",
       "      <th>Date</th>\n",
       "      <th>Product</th>\n",
       "      <th>CloseReason</th>\n",
       "      <th>Count</th>\n",
       "    </tr>\n",
       "  </thead>\n",
       "  <tbody>\n",
       "    <tr>\n",
       "      <th>0</th>\n",
       "      <td>400018</td>\n",
       "      <td>2023-10-06</td>\n",
       "      <td>ИАМ</td>\n",
       "      <td>Внесено над лимита</td>\n",
       "      <td>1</td>\n",
       "    </tr>\n",
       "    <tr>\n",
       "      <th>1</th>\n",
       "      <td>400056</td>\n",
       "      <td>2023-10-06</td>\n",
       "      <td>ИАМ</td>\n",
       "      <td>Внесено над лимита</td>\n",
       "      <td>1</td>\n",
       "    </tr>\n",
       "    <tr>\n",
       "      <th>2</th>\n",
       "      <td>400057</td>\n",
       "      <td>2023-10-06</td>\n",
       "      <td>ИАМ</td>\n",
       "      <td>Внесено над лимита</td>\n",
       "      <td>1</td>\n",
       "    </tr>\n",
       "    <tr>\n",
       "      <th>3</th>\n",
       "      <td>400110</td>\n",
       "      <td>2023-10-06</td>\n",
       "      <td>ИАМ</td>\n",
       "      <td>Внесено над лимита</td>\n",
       "      <td>1</td>\n",
       "    </tr>\n",
       "    <tr>\n",
       "      <th>4</th>\n",
       "      <td>406455</td>\n",
       "      <td>2023-10-03</td>\n",
       "      <td>ИАМ</td>\n",
       "      <td>Внесено над лимита</td>\n",
       "      <td>1</td>\n",
       "    </tr>\n",
       "    <tr>\n",
       "      <th>...</th>\n",
       "      <td>...</td>\n",
       "      <td>...</td>\n",
       "      <td>...</td>\n",
       "      <td>...</td>\n",
       "      <td>...</td>\n",
       "    </tr>\n",
       "    <tr>\n",
       "      <th>2160</th>\n",
       "      <td>11061752</td>\n",
       "      <td>2023-10-23</td>\n",
       "      <td>Бяла Карта 3</td>\n",
       "      <td>Внесено над лимита</td>\n",
       "      <td>1</td>\n",
       "    </tr>\n",
       "    <tr>\n",
       "      <th>2161</th>\n",
       "      <td>11062110</td>\n",
       "      <td>2023-10-06</td>\n",
       "      <td>A1 - 8.5%</td>\n",
       "      <td>Внесено над лимита</td>\n",
       "      <td>1</td>\n",
       "    </tr>\n",
       "    <tr>\n",
       "      <th>2162</th>\n",
       "      <td>11062325</td>\n",
       "      <td>2023-10-10</td>\n",
       "      <td>Бяла Карта 3</td>\n",
       "      <td>Внесено над лимита</td>\n",
       "      <td>1</td>\n",
       "    </tr>\n",
       "    <tr>\n",
       "      <th>2163</th>\n",
       "      <td>11063071</td>\n",
       "      <td>2023-10-18</td>\n",
       "      <td>Бяла Карта Gold - 10%</td>\n",
       "      <td>Внесено над лимита</td>\n",
       "      <td>1</td>\n",
       "    </tr>\n",
       "    <tr>\n",
       "      <th>2164</th>\n",
       "      <td>11063704</td>\n",
       "      <td>2023-10-31</td>\n",
       "      <td>A1 - 8.5%</td>\n",
       "      <td>Внесено над лимита</td>\n",
       "      <td>1</td>\n",
       "    </tr>\n",
       "  </tbody>\n",
       "</table>\n",
       "<p>2165 rows × 5 columns</p>\n",
       "</div>"
      ],
      "text/plain": [
       "      EasyClientNumber        Date                Product         CloseReason  \\\n",
       "0               400018  2023-10-06                    ИАМ  Внесено над лимита   \n",
       "1               400056  2023-10-06                    ИАМ  Внесено над лимита   \n",
       "2               400057  2023-10-06                    ИАМ  Внесено над лимита   \n",
       "3               400110  2023-10-06                    ИАМ  Внесено над лимита   \n",
       "4               406455  2023-10-03                    ИАМ  Внесено над лимита   \n",
       "...                ...         ...                    ...                 ...   \n",
       "2160          11061752  2023-10-23           Бяла Карта 3  Внесено над лимита   \n",
       "2161          11062110  2023-10-06              A1 - 8.5%  Внесено над лимита   \n",
       "2162          11062325  2023-10-10           Бяла Карта 3  Внесено над лимита   \n",
       "2163          11063071  2023-10-18  Бяла Карта Gold - 10%  Внесено над лимита   \n",
       "2164          11063704  2023-10-31              A1 - 8.5%  Внесено над лимита   \n",
       "\n",
       "      Count  \n",
       "0         1  \n",
       "1         1  \n",
       "2         1  \n",
       "3         1  \n",
       "4         1  \n",
       "...     ...  \n",
       "2160      1  \n",
       "2161      1  \n",
       "2162      1  \n",
       "2163      1  \n",
       "2164      1  \n",
       "\n",
       "[2165 rows x 5 columns]"
      ]
     },
     "execution_count": 10,
     "metadata": {},
     "output_type": "execute_result"
    }
   ],
   "source": [
    "data_sql = pd.read_sql_query(sql_query, conn)\n",
    "data_sql"
   ]
  },
  {
   "cell_type": "markdown",
   "id": "98f42b9b",
   "metadata": {},
   "source": [
    "### Data Generation"
   ]
  },
  {
   "cell_type": "code",
   "execution_count": 11,
   "id": "134e5671",
   "metadata": {},
   "outputs": [
    {
     "data": {
      "text/html": [
       "<div>\n",
       "<style scoped>\n",
       "    .dataframe tbody tr th:only-of-type {\n",
       "        vertical-align: middle;\n",
       "    }\n",
       "\n",
       "    .dataframe tbody tr th {\n",
       "        vertical-align: top;\n",
       "    }\n",
       "\n",
       "    .dataframe thead th {\n",
       "        text-align: right;\n",
       "    }\n",
       "</style>\n",
       "<table border=\"1\" class=\"dataframe\">\n",
       "  <thead>\n",
       "    <tr style=\"text-align: right;\">\n",
       "      <th></th>\n",
       "      <th>EasyClientNumber</th>\n",
       "      <th>Date</th>\n",
       "      <th>Product</th>\n",
       "      <th>CloseReason</th>\n",
       "      <th>Count</th>\n",
       "    </tr>\n",
       "  </thead>\n",
       "  <tbody>\n",
       "    <tr>\n",
       "      <th>0</th>\n",
       "      <td>400018</td>\n",
       "      <td>06.10.2023</td>\n",
       "      <td>ИАМ</td>\n",
       "      <td>VoluntaryChurn</td>\n",
       "      <td>1</td>\n",
       "    </tr>\n",
       "    <tr>\n",
       "      <th>1</th>\n",
       "      <td>400056</td>\n",
       "      <td>06.10.2023</td>\n",
       "      <td>ИАМ</td>\n",
       "      <td>VoluntaryChurn</td>\n",
       "      <td>1</td>\n",
       "    </tr>\n",
       "    <tr>\n",
       "      <th>2</th>\n",
       "      <td>400057</td>\n",
       "      <td>06.10.2023</td>\n",
       "      <td>ИАМ</td>\n",
       "      <td>VoluntaryChurn</td>\n",
       "      <td>1</td>\n",
       "    </tr>\n",
       "    <tr>\n",
       "      <th>3</th>\n",
       "      <td>400110</td>\n",
       "      <td>06.10.2023</td>\n",
       "      <td>ИАМ</td>\n",
       "      <td>VoluntaryChurn</td>\n",
       "      <td>1</td>\n",
       "    </tr>\n",
       "    <tr>\n",
       "      <th>4</th>\n",
       "      <td>406455</td>\n",
       "      <td>03.10.2023</td>\n",
       "      <td>ИАМ</td>\n",
       "      <td>VoluntaryChurn</td>\n",
       "      <td>1</td>\n",
       "    </tr>\n",
       "    <tr>\n",
       "      <th>...</th>\n",
       "      <td>...</td>\n",
       "      <td>...</td>\n",
       "      <td>...</td>\n",
       "      <td>...</td>\n",
       "      <td>...</td>\n",
       "    </tr>\n",
       "    <tr>\n",
       "      <th>2160</th>\n",
       "      <td>11061752</td>\n",
       "      <td>23.10.2023</td>\n",
       "      <td>Бяла Карта 3</td>\n",
       "      <td>VoluntaryChurn</td>\n",
       "      <td>1</td>\n",
       "    </tr>\n",
       "    <tr>\n",
       "      <th>2161</th>\n",
       "      <td>11062110</td>\n",
       "      <td>06.10.2023</td>\n",
       "      <td>A1 - 8.5%</td>\n",
       "      <td>VoluntaryChurn</td>\n",
       "      <td>1</td>\n",
       "    </tr>\n",
       "    <tr>\n",
       "      <th>2162</th>\n",
       "      <td>11062325</td>\n",
       "      <td>10.10.2023</td>\n",
       "      <td>Бяла Карта 3</td>\n",
       "      <td>VoluntaryChurn</td>\n",
       "      <td>1</td>\n",
       "    </tr>\n",
       "    <tr>\n",
       "      <th>2163</th>\n",
       "      <td>11063071</td>\n",
       "      <td>18.10.2023</td>\n",
       "      <td>Бяла Карта Gold - 10%</td>\n",
       "      <td>VoluntaryChurn</td>\n",
       "      <td>1</td>\n",
       "    </tr>\n",
       "    <tr>\n",
       "      <th>2164</th>\n",
       "      <td>11063704</td>\n",
       "      <td>31.10.2023</td>\n",
       "      <td>A1 - 8.5%</td>\n",
       "      <td>VoluntaryChurn</td>\n",
       "      <td>1</td>\n",
       "    </tr>\n",
       "  </tbody>\n",
       "</table>\n",
       "<p>2165 rows × 5 columns</p>\n",
       "</div>"
      ],
      "text/plain": [
       "      EasyClientNumber        Date                Product     CloseReason  \\\n",
       "0               400018  06.10.2023                    ИАМ  VoluntaryChurn   \n",
       "1               400056  06.10.2023                    ИАМ  VoluntaryChurn   \n",
       "2               400057  06.10.2023                    ИАМ  VoluntaryChurn   \n",
       "3               400110  06.10.2023                    ИАМ  VoluntaryChurn   \n",
       "4               406455  03.10.2023                    ИАМ  VoluntaryChurn   \n",
       "...                ...         ...                    ...             ...   \n",
       "2160          11061752  23.10.2023           Бяла Карта 3  VoluntaryChurn   \n",
       "2161          11062110  06.10.2023              A1 - 8.5%  VoluntaryChurn   \n",
       "2162          11062325  10.10.2023           Бяла Карта 3  VoluntaryChurn   \n",
       "2163          11063071  18.10.2023  Бяла Карта Gold - 10%  VoluntaryChurn   \n",
       "2164          11063704  31.10.2023              A1 - 8.5%  VoluntaryChurn   \n",
       "\n",
       "      Count  \n",
       "0         1  \n",
       "1         1  \n",
       "2         1  \n",
       "3         1  \n",
       "4         1  \n",
       "...     ...  \n",
       "2160      1  \n",
       "2161      1  \n",
       "2162      1  \n",
       "2163      1  \n",
       "2164      1  \n",
       "\n",
       "[2165 rows x 5 columns]"
      ]
     },
     "execution_count": 11,
     "metadata": {},
     "output_type": "execute_result"
    }
   ],
   "source": [
    "data_sql[\"CloseReason\"] = data_sql[\"CloseReason\"].replace({\n",
    "    \"Внесено над лимита\": \"VoluntaryChurn\", \n",
    "    \"Недостиг до зануляване\": \"VoluntaryChurn\",\n",
    "    \"Цесия\": 'Cession'\n",
    "})\n",
    "\n",
    "data_sql[\"Date\"] = pd.to_datetime(data_sql[\"Date\"]).dt.strftime(\"%d.%m.%Y\")\n",
    "data_sql"
   ]
  },
  {
   "cell_type": "markdown",
   "id": "afdc155d",
   "metadata": {},
   "source": [
    "### Data Export"
   ]
  },
  {
   "cell_type": "code",
   "execution_count": 12,
   "id": "7cda40f6",
   "metadata": {},
   "outputs": [],
   "source": [
    "data_rows = list(dataframe_to_rows(data_sql, index=False, header=False))"
   ]
  },
  {
   "cell_type": "code",
   "execution_count": 13,
   "id": "7cb4a947",
   "metadata": {},
   "outputs": [],
   "source": [
    "start_row = 2 \n",
    "start_column = 1 "
   ]
  },
  {
   "cell_type": "code",
   "execution_count": 14,
   "id": "94e66293",
   "metadata": {},
   "outputs": [],
   "source": [
    "for row in data_rows:\n",
    "    for value in row:\n",
    "        worksheet.cell(row=start_row, column=start_column, value=value)\n",
    "        start_column += 1\n",
    "    start_column = 1\n",
    "    start_row += 1; "
   ]
  },
  {
   "cell_type": "code",
   "execution_count": 15,
   "id": "1cf142d0",
   "metadata": {},
   "outputs": [],
   "source": [
    "workbook.save(output)"
   ]
  },
  {
   "cell_type": "markdown",
   "id": "f1b0f234",
   "metadata": {},
   "source": [
    "### Email Anouncing"
   ]
  },
  {
   "cell_type": "code",
   "execution_count": 16,
   "id": "95f245a2",
   "metadata": {},
   "outputs": [],
   "source": [
    "recipient_email = \"alexi.zein@gmail.com\"\n",
    "subject = \"Closed Cards\"\n",
    "message = \"\"\"Dear colleagues,\n",
    "\n",
    "This email is automatically generated and contains information about added data.\n",
    "\n",
    "Date and time of generation: {}\n",
    "\n",
    "The Closed Cards data has been added successfully and can be found in the shared folder on PD.\n",
    "\n",
    "\"\"\".format(datetime.now().strftime(\"%d %B %Y, %H:%M ч.\"))"
   ]
  },
  {
   "cell_type": "code",
   "execution_count": 17,
   "id": "0d4ffae3",
   "metadata": {},
   "outputs": [],
   "source": [
    "outlook = win32com.client.Dispatch(\"Outlook.Application\")\n",
    "namespace = outlook.GetNamespace(\"MAPI\")"
   ]
  },
  {
   "cell_type": "code",
   "execution_count": 18,
   "id": "23bdc79f",
   "metadata": {},
   "outputs": [],
   "source": [
    "mail = outlook.CreateItem(0)\n",
    "mail.Subject = subject\n",
    "mail.Body = message\n",
    "mail.To = recipient_email"
   ]
  },
  {
   "cell_type": "code",
   "execution_count": 19,
   "id": "de9d24c4",
   "metadata": {},
   "outputs": [],
   "source": [
    "mail.Send()"
   ]
  },
  {
   "cell_type": "code",
   "execution_count": 20,
   "id": "dec34f20",
   "metadata": {},
   "outputs": [
    {
     "name": "stdout",
     "output_type": "stream",
     "text": [
      "The notification email has been successfully sent.\n"
     ]
    }
   ],
   "source": [
    "print(\"The notification email has been successfully sent.\")"
   ]
  },
  {
   "cell_type": "code",
   "execution_count": 21,
   "id": "f9454f64",
   "metadata": {},
   "outputs": [
    {
     "name": "stdout",
     "output_type": "stream",
     "text": [
      "The script executed for 0.03 minutes.\n"
     ]
    }
   ],
   "source": [
    "end_time = time.time()\n",
    "execution_time_seconds = end_time - start_time\n",
    "execution_time_minutes = execution_time_seconds / 60\n",
    "print(f\"The script executed for {execution_time_minutes:.2f} minutes.\")"
   ]
  }
 ],
 "metadata": {
  "kernelspec": {
   "display_name": "Python 3 (ipykernel)",
   "language": "python",
   "name": "python3"
  },
  "language_info": {
   "codemirror_mode": {
    "name": "ipython",
    "version": 3
   },
   "file_extension": ".py",
   "mimetype": "text/x-python",
   "name": "python",
   "nbconvert_exporter": "python",
   "pygments_lexer": "ipython3",
   "version": "3.11.4"
  }
 },
 "nbformat": 4,
 "nbformat_minor": 5
}
