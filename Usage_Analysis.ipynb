{
 "cells": [
  {
   "cell_type": "markdown",
   "id": "78f8ed84",
   "metadata": {},
   "source": [
    "# Usage Analysis"
   ]
  },
  {
   "cell_type": "code",
   "execution_count": 1,
   "id": "b0cbff5d",
   "metadata": {},
   "outputs": [],
   "source": [
    "import time\n",
    "start_time = time.time()"
   ]
  },
  {
   "cell_type": "markdown",
   "id": "6b10d01b",
   "metadata": {},
   "source": [
    "## 1. Set an END date"
   ]
  },
  {
   "cell_type": "code",
   "execution_count": 2,
   "id": "e5917dc1",
   "metadata": {},
   "outputs": [],
   "source": [
    "end_date = '2023-11-12'"
   ]
  },
  {
   "cell_type": "markdown",
   "id": "1d70f088",
   "metadata": {},
   "source": [
    "## 2. Add Link for Card Report"
   ]
  },
  {
   "cell_type": "code",
   "execution_count": 3,
   "id": "40d8acad",
   "metadata": {},
   "outputs": [],
   "source": [
    "input_path = \"J:/Reports BG/Card_Report_BG/ASPxGridViewCards_13.11.2023.csv\""
   ]
  },
  {
   "cell_type": "markdown",
   "id": "72a1f2ae",
   "metadata": {},
   "source": [
    "## 4. Add Output Link "
   ]
  },
  {
   "cell_type": "code",
   "execution_count": 4,
   "id": "21758cc5",
   "metadata": {},
   "outputs": [],
   "source": [
    "output = \"C:/Users/aleksandar.dimitrov/Desktop/PD/Usage_13.11.2023.xlsx\""
   ]
  },
  {
   "cell_type": "markdown",
   "id": "65a58b31",
   "metadata": {},
   "source": [
    "## 3. Wait for the program... "
   ]
  },
  {
   "cell_type": "code",
   "execution_count": 5,
   "id": "fda5c84f",
   "metadata": {},
   "outputs": [],
   "source": [
    "import pandas as pd\n",
    "import pyodbc\n",
    "from openpyxl import load_workbook\n",
    "from openpyxl.utils.dataframe import dataframe_to_rows\n",
    "from datetime import datetime\n",
    "\n",
    "import win32com.client\n",
    "import time"
   ]
  },
  {
   "cell_type": "code",
   "execution_count": 6,
   "id": "86ab8b82",
   "metadata": {},
   "outputs": [],
   "source": [
    "template_path = \"C:/Users/aleksandar.dimitrov/Desktop/PD/Input/Usage_13.11.2023.xlsx\" "
   ]
  },
  {
   "cell_type": "code",
   "execution_count": 7,
   "id": "4e3ecd8f",
   "metadata": {},
   "outputs": [],
   "source": [
    "template = load_workbook(template_path)"
   ]
  },
  {
   "cell_type": "code",
   "execution_count": 8,
   "id": "a6da2ec9",
   "metadata": {},
   "outputs": [],
   "source": [
    "worksheet = template.active"
   ]
  },
  {
   "cell_type": "code",
   "execution_count": 9,
   "id": "72af1d10",
   "metadata": {},
   "outputs": [
    {
     "name": "stderr",
     "output_type": "stream",
     "text": [
      "C:\\Users\\aleksandar.dimitrov\\AppData\\Local\\Temp\\ipykernel_10640\\4291810047.py:1: DtypeWarning: Columns (0,3,4,6,7,10,11,13,15,16,17,18,19,20,21,24,25,26,27,28,29,30,31,32,33,34,35) have mixed types. Specify dtype option on import or set low_memory=False.\n",
      "  data = pd.read_csv(input_path, delimiter=\";\", encoding=\"cp1251\")\n"
     ]
    }
   ],
   "source": [
    "data = pd.read_csv(input_path, delimiter=\";\", encoding=\"cp1251\")\n",
    "data = data.drop(index=0)"
   ]
  },
  {
   "cell_type": "code",
   "execution_count": 10,
   "id": "de45b292",
   "metadata": {},
   "outputs": [],
   "source": [
    "data[\"Лимит\"] = data[\"Лимит\"].astype(float)\n",
    "data[\"Дължимо до зануляване\"] = data[\"Дължимо до зануляване\"].astype(float)\n",
    "data[\"Разполагаема сума\"] = data[\"Лимит\"] - data[\"Дължимо до зануляване\"]"
   ]
  },
  {
   "cell_type": "code",
   "execution_count": 11,
   "id": "e76de116",
   "metadata": {},
   "outputs": [],
   "source": [
    "desired_products =  [\"AXI 2\", \n",
    "                    \"AXI 2-500\",\n",
    "                    \"Visa Free ATM World\",\n",
    "                    \"Visa Бяла Карта - SC\",\n",
    "                    \"Бяла Карта\", \n",
    "                    \"Бяла Карта – само лихва\", \n",
    "                    \"Бяла Карта 2\",\n",
    "                    \"Бяла Карта 3\", \n",
    "                    \"Бяла Карта 3 - migrated\",\n",
    "                    \"Бяла Карта 4.2%\",\n",
    "                    \"Бяла Карта Gold - 10%\",\n",
    "                    \"Бяла Карта Gold - 5%\",                                         \n",
    "                    \"ИАМ\"]"
   ]
  },
  {
   "cell_type": "code",
   "execution_count": 12,
   "id": "1b3031f8",
   "metadata": {},
   "outputs": [],
   "source": [
    "filtered_data_1 = data[\n",
    "    (data[\"Текущ издател\"] == \"EPS\") &\n",
    "    (data[\"Продукт\"].isin(desired_products)) &\n",
    "    (data[\"Разполагаема сума\"] > 70) & \n",
    "    (data[\"Статус на картата\"] == \"активна\") &  \n",
    "    (data[\"Дни забава\"] == 0) ]   "
   ]
  },
  {
   "cell_type": "code",
   "execution_count": 13,
   "id": "07b1495c",
   "metadata": {},
   "outputs": [],
   "source": [
    "filtered_data_2 = data[\n",
    "    (data[\"Текущ издател\"] == \"EPS\") &\n",
    "    (data[\"Продукт\"].isin(desired_products)) &\n",
    "    (data[\"Разполагаема сума\"] > 70) & \n",
    "    (data[\"Статус на картата\"] == \"активна\") &  \n",
    "    (data[\"Дни забава\"] == \"0\")]   "
   ]
  },
  {
   "cell_type": "code",
   "execution_count": 14,
   "id": "b1a6f063",
   "metadata": {},
   "outputs": [],
   "source": [
    "columns_to_keep = [\"Текущ издател\",\n",
    "          \"Продукт\",\n",
    "          \"EasyClientNumber\",\n",
    "          \"Лимит\",\n",
    "          \"Клиент\",\n",
    "          \"ЕГН\",\n",
    "          \"Телефон\", \n",
    "          \"Статус на картата\",\n",
    "          \"Дължимо до зануляване\",\n",
    "          \"Разполагаема сума\",\n",
    "          \"Дни забава\",\n",
    "          \"Дата на последно теглене на пари от картата\"]"
   ]
  },
  {
   "cell_type": "code",
   "execution_count": 15,
   "id": "1cea0c58",
   "metadata": {},
   "outputs": [],
   "source": [
    "data_csv_1 = filtered_data_1[columns_to_keep]  \n",
    "data_csv_1 = data_csv_1.rename(columns={\"Дата на последно теглене на пари от картата\": \"Дата на последна транзакция\"})\n",
    "data_csv_1[\"Дата на последна транзакция\"] = pd.to_datetime(data_csv_1[\"Дата на последна транзакция\"]).dt.strftime(\"%d.%m.%Y\")"
   ]
  },
  {
   "cell_type": "code",
   "execution_count": 16,
   "id": "2cd25705",
   "metadata": {},
   "outputs": [],
   "source": [
    "data_csv_2 = filtered_data_2[columns_to_keep]  \n",
    "data_csv_2 = data_csv_2.rename(columns={\"Дата на последно теглене на пари от картата\": \"Дата на последна транзакция\"})\n",
    "data_csv_2[\"Дата на последна транзакция\"] = pd.to_datetime(data_csv_2[\"Дата на последна транзакция\"]).dt.strftime(\"%d.%m.%Y\")"
   ]
  },
  {
   "cell_type": "code",
   "execution_count": 17,
   "id": "facd4f73",
   "metadata": {},
   "outputs": [],
   "source": [
    "server = \"scorpio\"\n",
    "database = \"BIsmartWCBG\"\n",
    "conn = pyodbc.connect(f\"DRIVER=ODBC Driver 17 for SQL Server;SERVER={server};DATABASE={database};Trusted_Connection=yes\")"
   ]
  },
  {
   "cell_type": "code",
   "execution_count": 18,
   "id": "52bf25ec",
   "metadata": {},
   "outputs": [],
   "source": [
    "sql_query_1 = f\"\"\"\n",
    "\n",
    "DECLARE @EndDate DATE = '{end_date}';\n",
    "\n",
    "SELECT\n",
    "EasyClientNumber,\n",
    "ProcessorName,\n",
    "FORMAT(MinActivatedDate, 'dd-MM-yyyy') AS Date,\n",
    "Product\n",
    "FROM(\n",
    "SELECT DISTINCT EasyClientNumber,     \n",
    "p.Name AS Product,\n",
    "ProcessorName,\n",
    "ROW_NUMBER() OVER(PARTITION BY EasyClientNumber  \n",
    "                                ORDER BY ActivationDate asc) AS tr,\n",
    "MIN(CONVERT(DATE,ActivationDate)) AS MinActivatedDate,\n",
    "Limit\n",
    "  FROM dwh.DimCards c\n",
    "  left join dwh.DimOffers o On o.OfferSK = c.OfferSK\n",
    "  left join dwh.DimProduct p ON p.ProductSK = o.ProductSK\n",
    "  left join dwh.DimCardProcessors cp On cp.CardProcessorsSK = c.CardProcessorsSK\n",
    "  where ActivationDate IS NOT NULL \n",
    "  group By EasyClientNumber,\n",
    "Limit, \n",
    "p.Name,\n",
    "ActivationDate,\n",
    "ProcessorName\n",
    "  ) as Result\n",
    "  Where tr = 1 and \n",
    "  CONVERT(DATE,MinActivatedDate) between '2014-01-01' AND @EndDate  \n",
    "  group By MinActivatedDate, \n",
    "  EasyClientNumber,\n",
    "  Product,\n",
    "  ProcessorName\n",
    "\n",
    "\"\"\""
   ]
  },
  {
   "cell_type": "code",
   "execution_count": 19,
   "id": "4ea20df4",
   "metadata": {},
   "outputs": [
    {
     "name": "stderr",
     "output_type": "stream",
     "text": [
      "C:\\Users\\aleksandar.dimitrov\\AppData\\Local\\Temp\\ipykernel_10640\\2463551554.py:1: UserWarning: pandas only supports SQLAlchemy connectable (engine/connection) or database string URI or sqlite3 DBAPI2 connection. Other DBAPI2 objects are not tested. Please consider using SQLAlchemy.\n",
      "  first_activation_date = pd.read_sql_query(sql_query_1, conn)\n"
     ]
    }
   ],
   "source": [
    "first_activation_date = pd.read_sql_query(sql_query_1, conn)"
   ]
  },
  {
   "cell_type": "code",
   "execution_count": 20,
   "id": "a71b71b2",
   "metadata": {},
   "outputs": [],
   "source": [
    "first_activation_date = first_activation_date[[\"EasyClientNumber\", \"Date\"]]\n",
    "\n",
    "first_activation_date = first_activation_date.rename(columns=\n",
    "                                                     {\"Date\": \n",
    "                                                      \"Дата на първа активация на картата\"})\n",
    "first_activation_date[\"Дата на първа активация на картата\"] = first_activation_date[\"Дата на първа активация на картата\"].str.replace(\"-\", \".\")\n"
   ]
  },
  {
   "cell_type": "code",
   "execution_count": 21,
   "id": "8c029ef7",
   "metadata": {},
   "outputs": [],
   "source": [
    "sql_query_2 = \"\"\"\n",
    "\n",
    "SELECT DISTINCT \n",
    "    cards.EasyClientNumber,\n",
    "    prod.Name,\n",
    "    MIN(cards.ActivationDate) AS FirstActivationDate,\n",
    "    offer.DateGenerateContract AS ContractDate\n",
    "FROM dwh.DimCards AS cards\n",
    "LEFT JOIN dwh.DimCardProcessors AS cp ON cp.CardProcessorID = cards.CardProcessorsSK\n",
    "LEFT JOIN dwh.DimOffers AS offer ON offer.OfferSK = cards.OfferSK\n",
    "LEFT JOIN dwh.DimProduct AS prod ON prod.ProductSK = offer.ProductSK\n",
    "WHERE cards.CardProcessorsSK = 2\n",
    "GROUP BY cards.EasyClientNumber, prod.Name, offer.DateGenerateContract\n",
    "ORDER BY cards.EasyClientNumber;\n",
    "\n",
    "\"\"\""
   ]
  },
  {
   "cell_type": "code",
   "execution_count": 22,
   "id": "d6cf3401",
   "metadata": {},
   "outputs": [
    {
     "name": "stderr",
     "output_type": "stream",
     "text": [
      "C:\\Users\\aleksandar.dimitrov\\AppData\\Local\\Temp\\ipykernel_10640\\2744920968.py:1: UserWarning: pandas only supports SQLAlchemy connectable (engine/connection) or database string URI or sqlite3 DBAPI2 connection. Other DBAPI2 objects are not tested. Please consider using SQLAlchemy.\n",
      "  contract_date = pd.read_sql_query(sql_query_2, conn)\n"
     ]
    }
   ],
   "source": [
    "contract_date = pd.read_sql_query(sql_query_2, conn)"
   ]
  },
  {
   "cell_type": "code",
   "execution_count": 23,
   "id": "5526ce3b",
   "metadata": {},
   "outputs": [],
   "source": [
    "contract_date = contract_date[[\"EasyClientNumber\", \"ContractDate\"]]\n",
    "contract_date = contract_date.rename(columns={\"ContractDate\": \"Дата на подписване на договор\"})\n",
    "contract_date[\"Дата на подписване на договор\"] = pd.to_datetime(contract_date[\"Дата на подписване на договор\"])\n",
    "contract_date[\"Дата на подписване на договор\"] = contract_date[\"Дата на подписване на договор\"].dt.strftime(\"%d.%m.%Y\")"
   ]
  },
  {
   "cell_type": "code",
   "execution_count": 24,
   "id": "9519fb15",
   "metadata": {},
   "outputs": [],
   "source": [
    "sql_query_3 = f\"\"\"\n",
    "\n",
    "DECLARE @EndDate DATE = '{end_date}';\n",
    "declare @DateConsentFrom date = convert(date, '2014-01-01');\n",
    "declare @DateConsentTo date = convert(date, @EndDate);\n",
    "\n",
    "WITH\n",
    "\n",
    "--Emails --fix of duplicated emails\n",
    "Emails AS (\n",
    "SELECT ContactID, Email, Row_Number() OVER(PARTITION BY ContactID ORDER By Cdate desc) as rownum\n",
    "FROM dwh.DimClientMails where [Current] = 1\n",
    ")\n",
    "\n",
    "SELECT  o.ContractNumber as EasyClientNumber, cl.EGN, \n",
    "CASE WHEN consent.HasMarketing= '1' THEN 'Yes' ELSE 'No' END AS Marketig_consent, \n",
    "CASE WHEN consent.HasEmail= '1' THEN 'Yes' ELSE 'No' END AS Email_Consent,\n",
    "CASE WHEN consent.HasPhone= '1' THEN 'Yes' ELSE 'No' END AS HasPhone,\n",
    "CASE WHEN consent.HasSMS= '1' THEN 'Yes' ELSE 'No' END AS SMS_Consent,\n",
    "m.Email\n",
    "\n",
    "FROM dwh.DimClientConsent as consent\n",
    "\n",
    "JOIN dwh.DimOffers o ON o.OfferID = consent.OfferID\n",
    "JOIN dwh.DimOffersStatus os ON os.OffStatusSK = o.OffStatusSK\n",
    "JOIN dwh.DimProduct p ON p.ProductSK = o.ProductSK\n",
    "JOIN dwh.DimClient cl ON cl.ClientSK = consent.ClientSK\n",
    "--JOIN dwh.DimClientPhones ph ON ph.ContactID = consent.ContactOrPartnerId AND ph.[Current] = 1 AND ph.PhoneTypeSK = 1282\n",
    "LEFT JOIN Emails m ON m.ContactID = consent.ContactOrPartnerId AND m.rownum = 1\n",
    "\n",
    "WHERE consent.ClientSK <> -1 AND ContractNumber IS NOT NULL\n",
    "AND CONVERT(DATE, consent.LDate) BETWEEN @DateConsentFrom AND @DateConsentTo\n",
    "\n",
    "\"\"\""
   ]
  },
  {
   "cell_type": "code",
   "execution_count": 25,
   "id": "9fbf79c5",
   "metadata": {},
   "outputs": [
    {
     "name": "stderr",
     "output_type": "stream",
     "text": [
      "C:\\Users\\aleksandar.dimitrov\\AppData\\Local\\Temp\\ipykernel_10640\\3958564563.py:1: UserWarning: pandas only supports SQLAlchemy connectable (engine/connection) or database string URI or sqlite3 DBAPI2 connection. Other DBAPI2 objects are not tested. Please consider using SQLAlchemy.\n",
      "  consent_client = pd.read_sql_query(sql_query_3, conn)\n"
     ]
    }
   ],
   "source": [
    "consent_client = pd.read_sql_query(sql_query_3, conn)"
   ]
  },
  {
   "cell_type": "code",
   "execution_count": 26,
   "id": "956d894c",
   "metadata": {},
   "outputs": [],
   "source": [
    "consent_client = consent_client[[\"EasyClientNumber\",\n",
    "                                 \"Marketig_consent\",\n",
    "                                 \"SMS_Consent\",\n",
    "                                 \"Email_Consent\",\n",
    "                                 \"Email\"]]"
   ]
  },
  {
   "cell_type": "code",
   "execution_count": 27,
   "id": "08b38906",
   "metadata": {},
   "outputs": [],
   "source": [
    "data_csv_1 = data_csv_1.merge(first_activation_date, on=\"EasyClientNumber\", how=\"left\")\n",
    "data_csv_1 = data_csv_1.merge(contract_date, on=\"EasyClientNumber\", how=\"left\")\n",
    "data_csv_1 = data_csv_1.merge(consent_client, on=\"EasyClientNumber\", how=\"left\")"
   ]
  },
  {
   "cell_type": "code",
   "execution_count": 28,
   "id": "52de3f4e",
   "metadata": {},
   "outputs": [],
   "source": [
    "data_csv_2[\"EasyClientNumber\"] = data_csv_2[\"EasyClientNumber\"].astype(int)"
   ]
  },
  {
   "cell_type": "code",
   "execution_count": 29,
   "id": "25fcba51",
   "metadata": {},
   "outputs": [],
   "source": [
    "data_csv_2 = data_csv_2.merge(first_activation_date, on=\"EasyClientNumber\", how=\"left\")\n",
    "data_csv_2 = data_csv_2.merge(contract_date, on=\"EasyClientNumber\", how=\"left\")\n",
    "data_csv_2 = data_csv_2.merge(consent_client, on=\"EasyClientNumber\", how=\"left\")"
   ]
  },
  {
   "cell_type": "code",
   "execution_count": 30,
   "id": "398feaa0",
   "metadata": {},
   "outputs": [],
   "source": [
    "data_csv_1\n",
    "data_csv_1[\"Продукт 2\"] = data_csv_1[\"Продукт\"]\n",
    "\n",
    "data_csv_2\n",
    "data_csv_2[\"Продукт 2\"] = data_csv_2[\"Продукт\"]\n"
   ]
  },
  {
   "cell_type": "code",
   "execution_count": 31,
   "id": "6b41e198",
   "metadata": {},
   "outputs": [],
   "source": [
    "desired_order = [\"Текущ издател\",\n",
    "          \"Продукт\",       \n",
    "          \"Продукт 2\",\n",
    "          \"EasyClientNumber\",\n",
    "          \"Лимит\",\n",
    "          \"Клиент\",\n",
    "          \"ЕГН\",\n",
    "          \"Телефон\", \n",
    "          \"Статус на картата\",\n",
    "          \"Дата на първа активация на картата\",\n",
    "          \"Дължимо до зануляване\",\n",
    "          \"Разполагаема сума\",\n",
    "          \"Дни забава\",\n",
    "          \"Marketig_consent\",\n",
    "          \"SMS_Consent\",\n",
    "          \"Email_Consent\",\n",
    "          \"Email\",\n",
    "          \"Дата на подписване на договор\",\n",
    "          \"Дата на последна транзакция\"]"
   ]
  },
  {
   "cell_type": "code",
   "execution_count": 32,
   "id": "ebfc102e",
   "metadata": {},
   "outputs": [],
   "source": [
    "data_csv_1 = data_csv_1[desired_order]"
   ]
  },
  {
   "cell_type": "code",
   "execution_count": 33,
   "id": "2065f515",
   "metadata": {},
   "outputs": [],
   "source": [
    "data_csv_2 = data_csv_2[desired_order]\n"
   ]
  },
  {
   "cell_type": "code",
   "execution_count": 34,
   "id": "47ad7f28",
   "metadata": {},
   "outputs": [],
   "source": [
    "data_result = pd.concat([data_csv_1, data_csv_2])"
   ]
  },
  {
   "cell_type": "code",
   "execution_count": 47,
   "id": "b2a4627a",
   "metadata": {},
   "outputs": [
    {
     "data": {
      "text/html": [
       "<div>\n",
       "<style scoped>\n",
       "    .dataframe tbody tr th:only-of-type {\n",
       "        vertical-align: middle;\n",
       "    }\n",
       "\n",
       "    .dataframe tbody tr th {\n",
       "        vertical-align: top;\n",
       "    }\n",
       "\n",
       "    .dataframe thead th {\n",
       "        text-align: right;\n",
       "    }\n",
       "</style>\n",
       "<table border=\"1\" class=\"dataframe\">\n",
       "  <thead>\n",
       "    <tr style=\"text-align: right;\">\n",
       "      <th></th>\n",
       "      <th>Текущ издател</th>\n",
       "      <th>Продукт</th>\n",
       "      <th>Продукт 2</th>\n",
       "      <th>EasyClientNumber</th>\n",
       "      <th>Лимит</th>\n",
       "      <th>Клиент</th>\n",
       "      <th>ЕГН</th>\n",
       "      <th>Телефон</th>\n",
       "      <th>Статус на картата</th>\n",
       "      <th>Дата на първа активация на картата</th>\n",
       "      <th>Дължимо до зануляване</th>\n",
       "      <th>Разполагаема сума</th>\n",
       "      <th>Дни забава</th>\n",
       "      <th>Marketig_consent</th>\n",
       "      <th>SMS_Consent</th>\n",
       "      <th>Email_Consent</th>\n",
       "      <th>Email</th>\n",
       "      <th>Дата на подписване на договор</th>\n",
       "      <th>Дата на последна транзакция</th>\n",
       "    </tr>\n",
       "  </thead>\n",
       "  <tbody>\n",
       "    <tr>\n",
       "      <th>0</th>\n",
       "      <td>EPS</td>\n",
       "      <td>Visa Бяла Карта - SC</td>\n",
       "      <td>Visa Бяла Карта - SC</td>\n",
       "      <td>470106</td>\n",
       "      <td>400.0</td>\n",
       "      <td>Иво Славейков Димитров</td>\n",
       "      <td>7207124024</td>\n",
       "      <td>359899543886</td>\n",
       "      <td>активна</td>\n",
       "      <td>14.06.2016</td>\n",
       "      <td>326.28</td>\n",
       "      <td>73.72</td>\n",
       "      <td>0</td>\n",
       "      <td>#N/A</td>\n",
       "      <td>#N/A</td>\n",
       "      <td>#N/A</td>\n",
       "      <td>#N/A</td>\n",
       "      <td>06.06.2016</td>\n",
       "      <td>26.09.2023</td>\n",
       "    </tr>\n",
       "    <tr>\n",
       "      <th>1</th>\n",
       "      <td>EPS</td>\n",
       "      <td>Бяла Карта 3 - migrated</td>\n",
       "      <td>Бяла Карта 3 - migrated</td>\n",
       "      <td>424881</td>\n",
       "      <td>900.0</td>\n",
       "      <td>Емил Жеков Иванов</td>\n",
       "      <td>7306093128</td>\n",
       "      <td>359878703980</td>\n",
       "      <td>активна</td>\n",
       "      <td>23.12.2014</td>\n",
       "      <td>-0.51</td>\n",
       "      <td>900.51</td>\n",
       "      <td>0</td>\n",
       "      <td>Yes</td>\n",
       "      <td>Yes</td>\n",
       "      <td>Yes</td>\n",
       "      <td>#N/A</td>\n",
       "      <td>08.12.2014</td>\n",
       "      <td>06.03.2017</td>\n",
       "    </tr>\n",
       "    <tr>\n",
       "      <th>2</th>\n",
       "      <td>EPS</td>\n",
       "      <td>Visa Бяла Карта - SC</td>\n",
       "      <td>Visa Бяла Карта - SC</td>\n",
       "      <td>838717</td>\n",
       "      <td>3200.0</td>\n",
       "      <td>Любка Иванова Бенчева</td>\n",
       "      <td>7103113537</td>\n",
       "      <td>359879202841</td>\n",
       "      <td>активна</td>\n",
       "      <td>07.08.2020</td>\n",
       "      <td>2320.31</td>\n",
       "      <td>879.69</td>\n",
       "      <td>0</td>\n",
       "      <td>Yes</td>\n",
       "      <td>Yes</td>\n",
       "      <td>Yes</td>\n",
       "      <td>LBENCHEVA11@ABV.BG</td>\n",
       "      <td>03.08.2020</td>\n",
       "      <td>12.11.2023</td>\n",
       "    </tr>\n",
       "    <tr>\n",
       "      <th>3</th>\n",
       "      <td>EPS</td>\n",
       "      <td>Бяла Карта 3 - migrated</td>\n",
       "      <td>Бяла Карта 3 - migrated</td>\n",
       "      <td>432230</td>\n",
       "      <td>900.0</td>\n",
       "      <td>Иван Спасов Георгиев</td>\n",
       "      <td>6303033041</td>\n",
       "      <td>359878375991</td>\n",
       "      <td>активна</td>\n",
       "      <td>08.06.2015</td>\n",
       "      <td>596.44</td>\n",
       "      <td>303.56</td>\n",
       "      <td>0</td>\n",
       "      <td>Yes</td>\n",
       "      <td>Yes</td>\n",
       "      <td>Yes</td>\n",
       "      <td>vatsche@abv.bg</td>\n",
       "      <td>01.06.2015</td>\n",
       "      <td>19.07.2023</td>\n",
       "    </tr>\n",
       "    <tr>\n",
       "      <th>4</th>\n",
       "      <td>EPS</td>\n",
       "      <td>Бяла Карта 3 - migrated</td>\n",
       "      <td>Бяла Карта 3 - migrated</td>\n",
       "      <td>475421</td>\n",
       "      <td>1200.0</td>\n",
       "      <td>Стефан Исталиянов Стефанов</td>\n",
       "      <td>6805271068</td>\n",
       "      <td>359878950800</td>\n",
       "      <td>активна</td>\n",
       "      <td>01.08.2016</td>\n",
       "      <td>0.00</td>\n",
       "      <td>1200.00</td>\n",
       "      <td>0</td>\n",
       "      <td>Yes</td>\n",
       "      <td>Yes</td>\n",
       "      <td>Yes</td>\n",
       "      <td>Stefisti@mail.bg</td>\n",
       "      <td>25.07.2016</td>\n",
       "      <td>05.07.2017</td>\n",
       "    </tr>\n",
       "    <tr>\n",
       "      <th>...</th>\n",
       "      <td>...</td>\n",
       "      <td>...</td>\n",
       "      <td>...</td>\n",
       "      <td>...</td>\n",
       "      <td>...</td>\n",
       "      <td>...</td>\n",
       "      <td>...</td>\n",
       "      <td>...</td>\n",
       "      <td>...</td>\n",
       "      <td>...</td>\n",
       "      <td>...</td>\n",
       "      <td>...</td>\n",
       "      <td>...</td>\n",
       "      <td>...</td>\n",
       "      <td>...</td>\n",
       "      <td>...</td>\n",
       "      <td>...</td>\n",
       "      <td>...</td>\n",
       "      <td>...</td>\n",
       "    </tr>\n",
       "    <tr>\n",
       "      <th>5526</th>\n",
       "      <td>EPS</td>\n",
       "      <td>Бяла Карта 3 - migrated</td>\n",
       "      <td>Бяла Карта 3 - migrated</td>\n",
       "      <td>477223</td>\n",
       "      <td>1500.0</td>\n",
       "      <td>Петя Благоева Тодорова</td>\n",
       "      <td>6612043212</td>\n",
       "      <td>+359886028193</td>\n",
       "      <td>активна</td>\n",
       "      <td>16.08.2016</td>\n",
       "      <td>0.00</td>\n",
       "      <td>1500.00</td>\n",
       "      <td>0</td>\n",
       "      <td>Yes</td>\n",
       "      <td>No</td>\n",
       "      <td>Yes</td>\n",
       "      <td>ooopepi666@abv.bg</td>\n",
       "      <td>12.08.2016</td>\n",
       "      <td>23.05.2023</td>\n",
       "    </tr>\n",
       "    <tr>\n",
       "      <th>5527</th>\n",
       "      <td>EPS</td>\n",
       "      <td>Бяла Карта 3 - migrated</td>\n",
       "      <td>Бяла Карта 3 - migrated</td>\n",
       "      <td>426223</td>\n",
       "      <td>3000.0</td>\n",
       "      <td>Ивета Емилова Ангелова</td>\n",
       "      <td>8309166791</td>\n",
       "      <td>+359884390779</td>\n",
       "      <td>активна</td>\n",
       "      <td>14.01.2015</td>\n",
       "      <td>0.00</td>\n",
       "      <td>3000.00</td>\n",
       "      <td>0</td>\n",
       "      <td>Yes</td>\n",
       "      <td>Yes</td>\n",
       "      <td>Yes</td>\n",
       "      <td>iveta.angelova@abv.bg</td>\n",
       "      <td>12.01.2015</td>\n",
       "      <td>21.12.2021</td>\n",
       "    </tr>\n",
       "    <tr>\n",
       "      <th>5528</th>\n",
       "      <td>EPS</td>\n",
       "      <td>Бяла Карта 3 - migrated</td>\n",
       "      <td>Бяла Карта 3 - migrated</td>\n",
       "      <td>554288</td>\n",
       "      <td>800.0</td>\n",
       "      <td>Димитър Пенчев Колев</td>\n",
       "      <td>7008315429</td>\n",
       "      <td>+359899832961</td>\n",
       "      <td>активна</td>\n",
       "      <td>19.09.2018</td>\n",
       "      <td>0.00</td>\n",
       "      <td>800.00</td>\n",
       "      <td>0</td>\n",
       "      <td>Yes</td>\n",
       "      <td>Yes</td>\n",
       "      <td>Yes</td>\n",
       "      <td>MITKOO_DM@ABV.BG</td>\n",
       "      <td>17.09.2018</td>\n",
       "      <td>24.07.2023</td>\n",
       "    </tr>\n",
       "    <tr>\n",
       "      <th>5529</th>\n",
       "      <td>EPS</td>\n",
       "      <td>AXI 2</td>\n",
       "      <td>AXI 2</td>\n",
       "      <td>907263</td>\n",
       "      <td>2300.0</td>\n",
       "      <td>Десислава Павлова Големанска</td>\n",
       "      <td>7203222871</td>\n",
       "      <td>+359896730991</td>\n",
       "      <td>активна</td>\n",
       "      <td>16.03.2021</td>\n",
       "      <td>0.00</td>\n",
       "      <td>2300.00</td>\n",
       "      <td>0</td>\n",
       "      <td>Yes</td>\n",
       "      <td>Yes</td>\n",
       "      <td>Yes</td>\n",
       "      <td>desislavak@icloud.com</td>\n",
       "      <td>08.03.2021</td>\n",
       "      <td>27.10.2023</td>\n",
       "    </tr>\n",
       "    <tr>\n",
       "      <th>5530</th>\n",
       "      <td>EPS</td>\n",
       "      <td>Бяла Карта</td>\n",
       "      <td>Бяла Карта</td>\n",
       "      <td>11022754</td>\n",
       "      <td>600.0</td>\n",
       "      <td>Петър Емилов Попов</td>\n",
       "      <td>8305186640</td>\n",
       "      <td>+359897698020</td>\n",
       "      <td>активна</td>\n",
       "      <td>12.09.2022</td>\n",
       "      <td>0.00</td>\n",
       "      <td>600.00</td>\n",
       "      <td>0</td>\n",
       "      <td>No</td>\n",
       "      <td>No</td>\n",
       "      <td>No</td>\n",
       "      <td>petarpopov773@gmail.com</td>\n",
       "      <td>05.09.2022</td>\n",
       "      <td>02.11.2023</td>\n",
       "    </tr>\n",
       "  </tbody>\n",
       "</table>\n",
       "<p>43346 rows × 19 columns</p>\n",
       "</div>"
      ],
      "text/plain": [
       "     Текущ издател                  Продукт                Продукт 2  \\\n",
       "0              EPS     Visa Бяла Карта - SC     Visa Бяла Карта - SC   \n",
       "1              EPS  Бяла Карта 3 - migrated  Бяла Карта 3 - migrated   \n",
       "2              EPS     Visa Бяла Карта - SC     Visa Бяла Карта - SC   \n",
       "3              EPS  Бяла Карта 3 - migrated  Бяла Карта 3 - migrated   \n",
       "4              EPS  Бяла Карта 3 - migrated  Бяла Карта 3 - migrated   \n",
       "...            ...                      ...                      ...   \n",
       "5526           EPS  Бяла Карта 3 - migrated  Бяла Карта 3 - migrated   \n",
       "5527           EPS  Бяла Карта 3 - migrated  Бяла Карта 3 - migrated   \n",
       "5528           EPS  Бяла Карта 3 - migrated  Бяла Карта 3 - migrated   \n",
       "5529           EPS                    AXI 2                    AXI 2   \n",
       "5530           EPS               Бяла Карта               Бяла Карта   \n",
       "\n",
       "      EasyClientNumber   Лимит                        Клиент         ЕГН  \\\n",
       "0               470106   400.0        Иво Славейков Димитров  7207124024   \n",
       "1               424881   900.0             Емил Жеков Иванов  7306093128   \n",
       "2               838717  3200.0         Любка Иванова Бенчева  7103113537   \n",
       "3               432230   900.0          Иван Спасов Георгиев  6303033041   \n",
       "4               475421  1200.0    Стефан Исталиянов Стефанов  6805271068   \n",
       "...                ...     ...                           ...         ...   \n",
       "5526            477223  1500.0        Петя Благоева Тодорова  6612043212   \n",
       "5527            426223  3000.0        Ивета Емилова Ангелова  8309166791   \n",
       "5528            554288   800.0          Димитър Пенчев Колев  7008315429   \n",
       "5529            907263  2300.0  Десислава Павлова Големанска  7203222871   \n",
       "5530          11022754   600.0            Петър Емилов Попов  8305186640   \n",
       "\n",
       "            Телефон Статус на картата Дата на първа активация на картата  \\\n",
       "0      359899543886           активна                         14.06.2016   \n",
       "1      359878703980           активна                         23.12.2014   \n",
       "2      359879202841           активна                         07.08.2020   \n",
       "3      359878375991           активна                         08.06.2015   \n",
       "4      359878950800           активна                         01.08.2016   \n",
       "...             ...               ...                                ...   \n",
       "5526  +359886028193           активна                         16.08.2016   \n",
       "5527  +359884390779           активна                         14.01.2015   \n",
       "5528  +359899832961           активна                         19.09.2018   \n",
       "5529  +359896730991           активна                         16.03.2021   \n",
       "5530  +359897698020           активна                         12.09.2022   \n",
       "\n",
       "      Дължимо до зануляване  Разполагаема сума Дни забава Marketig_consent  \\\n",
       "0                    326.28              73.72          0             #N/A   \n",
       "1                     -0.51             900.51          0              Yes   \n",
       "2                   2320.31             879.69          0              Yes   \n",
       "3                    596.44             303.56          0              Yes   \n",
       "4                      0.00            1200.00          0              Yes   \n",
       "...                     ...                ...        ...              ...   \n",
       "5526                   0.00            1500.00          0              Yes   \n",
       "5527                   0.00            3000.00          0              Yes   \n",
       "5528                   0.00             800.00          0              Yes   \n",
       "5529                   0.00            2300.00          0              Yes   \n",
       "5530                   0.00             600.00          0               No   \n",
       "\n",
       "     SMS_Consent Email_Consent                    Email  \\\n",
       "0           #N/A          #N/A                     #N/A   \n",
       "1            Yes           Yes                     #N/A   \n",
       "2            Yes           Yes       LBENCHEVA11@ABV.BG   \n",
       "3            Yes           Yes           vatsche@abv.bg   \n",
       "4            Yes           Yes         Stefisti@mail.bg   \n",
       "...          ...           ...                      ...   \n",
       "5526          No           Yes        ooopepi666@abv.bg   \n",
       "5527         Yes           Yes    iveta.angelova@abv.bg   \n",
       "5528         Yes           Yes         MITKOO_DM@ABV.BG   \n",
       "5529         Yes           Yes    desislavak@icloud.com   \n",
       "5530          No            No  petarpopov773@gmail.com   \n",
       "\n",
       "     Дата на подписване на договор Дата на последна транзакция  \n",
       "0                       06.06.2016                  26.09.2023  \n",
       "1                       08.12.2014                  06.03.2017  \n",
       "2                       03.08.2020                  12.11.2023  \n",
       "3                       01.06.2015                  19.07.2023  \n",
       "4                       25.07.2016                  05.07.2017  \n",
       "...                            ...                         ...  \n",
       "5526                    12.08.2016                  23.05.2023  \n",
       "5527                    12.01.2015                  21.12.2021  \n",
       "5528                    17.09.2018                  24.07.2023  \n",
       "5529                    08.03.2021                  27.10.2023  \n",
       "5530                    05.09.2022                  02.11.2023  \n",
       "\n",
       "[43346 rows x 19 columns]"
      ]
     },
     "execution_count": 47,
     "metadata": {},
     "output_type": "execute_result"
    }
   ],
   "source": [
    "data_result.fillna(\"#N/A\", inplace=True)\n",
    "data_result"
   ]
  },
  {
   "cell_type": "code",
   "execution_count": 36,
   "id": "b456cdd9",
   "metadata": {},
   "outputs": [],
   "source": [
    "for row in worksheet.iter_rows(min_row=2, max_row=worksheet.max_row, min_col=1, max_col=worksheet.max_column):\n",
    "    for cell in row:\n",
    "        cell.value = None"
   ]
  },
  {
   "cell_type": "code",
   "execution_count": 37,
   "id": "00c0ca15",
   "metadata": {},
   "outputs": [],
   "source": [
    "data_rows = list(dataframe_to_rows(data_result, index=False, header=False))"
   ]
  },
  {
   "cell_type": "code",
   "execution_count": 38,
   "id": "2d15c69c",
   "metadata": {},
   "outputs": [],
   "source": [
    "start_row = 2\n",
    "start_column = 1"
   ]
  },
  {
   "cell_type": "code",
   "execution_count": 39,
   "id": "520d9261",
   "metadata": {},
   "outputs": [],
   "source": [
    "for row in data_rows:\n",
    "    for value in row:\n",
    "        worksheet.cell(row=start_row, column=start_column, value=value)\n",
    "        start_column += 1\n",
    "    start_column = 1\n",
    "    start_row += 1"
   ]
  },
  {
   "cell_type": "code",
   "execution_count": 40,
   "id": "670fbec0",
   "metadata": {},
   "outputs": [],
   "source": [
    "template.save(output)"
   ]
  },
  {
   "cell_type": "code",
   "execution_count": 41,
   "id": "f29a057d",
   "metadata": {},
   "outputs": [],
   "source": [
    "recipient_email = \"alexi.zein@gmail.com\"\n",
    "subject = \"Usage\"\n",
    "message = \"\"\"Dear colleagues,\n",
    "\n",
    "This email is automatically generated and contains information about added data.\n",
    "\n",
    "Date and time of generation: {}\n",
    "\n",
    "The Usage data has been added successfully and can be found in the shared folder on PD.\n",
    "\n",
    "\"\"\".format(datetime.now().strftime(\"%d %B %Y, %H:%M ч.\"))"
   ]
  },
  {
   "cell_type": "code",
   "execution_count": 42,
   "id": "e7572234",
   "metadata": {},
   "outputs": [],
   "source": [
    "outlook = win32com.client.Dispatch(\"Outlook.Application\")\n",
    "namespace = outlook.GetNamespace(\"MAPI\")"
   ]
  },
  {
   "cell_type": "code",
   "execution_count": 43,
   "id": "6efc9ec8",
   "metadata": {},
   "outputs": [],
   "source": [
    "mail = outlook.CreateItem(0)\n",
    "mail.Subject = subject\n",
    "mail.Body = message\n",
    "mail.To = recipient_email"
   ]
  },
  {
   "cell_type": "code",
   "execution_count": 44,
   "id": "87f32752",
   "metadata": {},
   "outputs": [],
   "source": [
    "mail.Send()"
   ]
  },
  {
   "cell_type": "code",
   "execution_count": 45,
   "id": "ff542a91",
   "metadata": {},
   "outputs": [
    {
     "name": "stdout",
     "output_type": "stream",
     "text": [
      "The notification email has been successfully sent.\n"
     ]
    }
   ],
   "source": [
    "print(\"The notification email has been successfully sent.\")"
   ]
  },
  {
   "cell_type": "code",
   "execution_count": 46,
   "id": "40126d6b",
   "metadata": {},
   "outputs": [
    {
     "name": "stdout",
     "output_type": "stream",
     "text": [
      "The script executed for 0.79 minutes.\n"
     ]
    }
   ],
   "source": [
    "end_time = time.time()\n",
    "execution_time_seconds = end_time - start_time\n",
    "execution_time_minutes = execution_time_seconds / 60\n",
    "print(f\"The script executed for {execution_time_minutes:.2f} minutes.\")"
   ]
  }
 ],
 "metadata": {
  "kernelspec": {
   "display_name": "Python 3 (ipykernel)",
   "language": "python",
   "name": "python3"
  },
  "language_info": {
   "codemirror_mode": {
    "name": "ipython",
    "version": 3
   },
   "file_extension": ".py",
   "mimetype": "text/x-python",
   "name": "python",
   "nbconvert_exporter": "python",
   "pygments_lexer": "ipython3",
   "version": "3.11.4"
  }
 },
 "nbformat": 4,
 "nbformat_minor": 5
}
